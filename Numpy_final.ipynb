{
  "cells": [
    {
      "cell_type": "markdown",
      "metadata": {
        "id": "view-in-github",
        "colab_type": "text"
      },
      "source": [
        "<a href=\"https://colab.research.google.com/github/ramikhouli/Oil-and-Gas-Data-Analysis/blob/main/Numpy_final.ipynb\" target=\"_parent\"><img src=\"https://colab.research.google.com/assets/colab-badge.svg\" alt=\"Open In Colab\"/></a>"
      ]
    },
    {
      "cell_type": "markdown",
      "metadata": {
        "id": "MtqhSYzntL89"
      },
      "source": [
        "#### Rami Khouli | rami.khouli@gmail.com\n"
      ]
    },
    {
      "cell_type": "markdown",
      "metadata": {
        "id": "QadfOOHCtL89"
      },
      "source": [
        "# Numpy \n",
        "1. Stands for Numerical Python\n",
        "2. Numpy is also incredibly fast, as it has bindings to C libraries. So, NumPy operations help in computational efficiency. \n",
        "3. Entire mathematical package of Matlab is numpy\n",
        "4. Data Manipulations of arrays and matix\n",
        "5. Array doesn't exist in python core, there list is present"
      ]
    },
    {
      "cell_type": "code",
      "execution_count": null,
      "metadata": {
        "id": "eeeS3tCotL8-"
      },
      "outputs": [],
      "source": [
        "# importing numpy\n",
        "import numpy as np"
      ]
    },
    {
      "cell_type": "markdown",
      "metadata": {
        "id": "Re1lSgIztL8-"
      },
      "source": [
        "## numpy arrays: numpy object used for storing data:\n",
        "Faster than lists(upto 50 times) and takes lesser space"
      ]
    },
    {
      "cell_type": "code",
      "execution_count": null,
      "metadata": {
        "id": "3lbvaijstL8_",
        "outputId": "3eb9be49-3664-422e-d973-2c5b36a44481"
      },
      "outputs": [
        {
          "data": {
            "text/plain": [
              "array([1, 2, 3, 4, 5])"
            ]
          },
          "execution_count": 30,
          "metadata": {},
          "output_type": "execute_result"
        }
      ],
      "source": [
        "#Creating Numpy array from a python list\n",
        "a=[1,2,3,4,5]\n",
        "arr = np.array(a)\n",
        "arr"
      ]
    },
    {
      "cell_type": "code",
      "execution_count": null,
      "metadata": {
        "id": "bDmpWOj4tL8_",
        "outputId": "b5a900af-66ff-46d4-f275-b638909b3612"
      },
      "outputs": [
        {
          "data": {
            "text/plain": [
              "numpy.ndarray"
            ]
          },
          "execution_count": 31,
          "metadata": {},
          "output_type": "execute_result"
        }
      ],
      "source": [
        "type(arr)"
      ]
    },
    {
      "cell_type": "code",
      "execution_count": null,
      "metadata": {
        "id": "gdyfrlJAtL9A",
        "outputId": "ce7402a7-30fb-4713-a900-c3e8aef430e4"
      },
      "outputs": [
        {
          "data": {
            "text/plain": [
              "array([1, 2, 3, 4, 5])"
            ]
          },
          "execution_count": 32,
          "metadata": {},
          "output_type": "execute_result"
        }
      ],
      "source": [
        "# Creating Numpy arrasy from tuples\n",
        "import numpy as np\n",
        "t = (1, 2, 3, 4, 5)\n",
        "\n",
        "arr = np.array(t)\n",
        "\n",
        "arr"
      ]
    },
    {
      "cell_type": "code",
      "execution_count": null,
      "metadata": {
        "id": "OP_grqLatL9A",
        "outputId": "ca0da775-a1ef-4d5a-c335-5e6854933de6"
      },
      "outputs": [
        {
          "data": {
            "text/plain": [
              "tuple"
            ]
          },
          "execution_count": 33,
          "metadata": {},
          "output_type": "execute_result"
        }
      ],
      "source": [
        "type(t)"
      ]
    },
    {
      "cell_type": "code",
      "execution_count": null,
      "metadata": {
        "id": "SoCEvcV1tL9B",
        "outputId": "ec178d7d-8114-4fc9-fb2b-bf97e1df5fd9"
      },
      "outputs": [
        {
          "data": {
            "text/plain": [
              "numpy.ndarray"
            ]
          },
          "execution_count": 34,
          "metadata": {},
          "output_type": "execute_result"
        }
      ],
      "source": [
        "type(arr)"
      ]
    },
    {
      "cell_type": "code",
      "execution_count": null,
      "metadata": {
        "id": "GZgk5PZ_tL9B"
      },
      "outputs": [],
      "source": [
        "lis = list(arr)"
      ]
    },
    {
      "cell_type": "code",
      "execution_count": null,
      "metadata": {
        "id": "TRX-Lk8utL9B",
        "outputId": "167a937a-5515-45ee-8ddb-35386bb3ae70"
      },
      "outputs": [
        {
          "data": {
            "text/plain": [
              "[1, 2, 3, 4, 5]"
            ]
          },
          "execution_count": 36,
          "metadata": {},
          "output_type": "execute_result"
        }
      ],
      "source": [
        "lis"
      ]
    },
    {
      "cell_type": "code",
      "execution_count": null,
      "metadata": {
        "id": "idC-ZeIqtL9C",
        "outputId": "b5523d1e-8d48-431e-91e1-7767114747eb"
      },
      "outputs": [
        {
          "data": {
            "text/plain": [
              "list"
            ]
          },
          "execution_count": 37,
          "metadata": {},
          "output_type": "execute_result"
        }
      ],
      "source": [
        "type(lis)"
      ]
    },
    {
      "cell_type": "markdown",
      "metadata": {
        "id": "WqrZ5Ip6tL9E"
      },
      "source": [
        "## DImensions in array"
      ]
    },
    {
      "cell_type": "markdown",
      "metadata": {
        "id": "LTMQgY0ptL9E"
      },
      "source": [
        "### 0-D array: Array having one element"
      ]
    },
    {
      "cell_type": "code",
      "execution_count": null,
      "metadata": {
        "id": "G1ufcDFntL9F"
      },
      "outputs": [],
      "source": [
        "import numpy as np"
      ]
    },
    {
      "cell_type": "code",
      "execution_count": null,
      "metadata": {
        "id": "orsbugwXtL9G",
        "outputId": "3b1d81eb-23e2-43a6-8875-8a99133b5bfd"
      },
      "outputs": [
        {
          "ename": "TypeError",
          "evalue": "Cannot interpret '56' as a data type",
          "output_type": "error",
          "traceback": [
            "\u001b[1;31m---------------------------------------------------------------------------\u001b[0m",
            "\u001b[1;31mTypeError\u001b[0m                                 Traceback (most recent call last)",
            "\u001b[1;32m<ipython-input-73-a3ec82b2cd41>\u001b[0m in \u001b[0;36m<module>\u001b[1;34m\u001b[0m\n\u001b[1;32m----> 1\u001b[1;33m \u001b[0marr\u001b[0m \u001b[1;33m=\u001b[0m \u001b[0mnp\u001b[0m\u001b[1;33m.\u001b[0m\u001b[0marray\u001b[0m\u001b[1;33m(\u001b[0m\u001b[1;36m45\u001b[0m\u001b[1;33m,\u001b[0m\u001b[1;36m56\u001b[0m\u001b[1;33m)\u001b[0m\u001b[1;33m\u001b[0m\u001b[1;33m\u001b[0m\u001b[0m\n\u001b[0m",
            "\u001b[1;31mTypeError\u001b[0m: Cannot interpret '56' as a data type"
          ]
        }
      ],
      "source": [
        "arr = np.array(45,56)"
      ]
    },
    {
      "cell_type": "code",
      "execution_count": null,
      "metadata": {
        "id": "AY77_HFZtL9H",
        "outputId": "1e604cb6-2850-47de-a8bd-939516952fec"
      },
      "outputs": [
        {
          "data": {
            "text/plain": [
              "0"
            ]
          },
          "execution_count": 66,
          "metadata": {},
          "output_type": "execute_result"
        }
      ],
      "source": [
        "#Checking Dimension of array using ndim attribute\n",
        "arr.ndim"
      ]
    },
    {
      "cell_type": "code",
      "execution_count": null,
      "metadata": {
        "id": "WASHNPLatL9H",
        "outputId": "c4aff6f4-7c08-46d0-eae9-9c7dc7435924"
      },
      "outputs": [
        {
          "data": {
            "text/plain": [
              "array(45)"
            ]
          },
          "execution_count": 67,
          "metadata": {},
          "output_type": "execute_result"
        }
      ],
      "source": [
        "arr"
      ]
    },
    {
      "cell_type": "markdown",
      "metadata": {
        "id": "80MVKO9ztL9I"
      },
      "source": [
        "### 1-D array : Array having 0-D arrays as its elements\n",
        "- Most common and basic arrays\n",
        "- Similar to basic lists"
      ]
    },
    {
      "cell_type": "code",
      "execution_count": null,
      "metadata": {
        "id": "2KG2C_srtL9J"
      },
      "outputs": [],
      "source": [
        "arr = np.array((42,34,45))"
      ]
    },
    {
      "cell_type": "code",
      "execution_count": null,
      "metadata": {
        "id": "DcWv-tnktL9J",
        "outputId": "d74494c0-401f-44ab-8b14-502b912c438f"
      },
      "outputs": [
        {
          "data": {
            "text/plain": [
              "1"
            ]
          },
          "execution_count": 75,
          "metadata": {},
          "output_type": "execute_result"
        }
      ],
      "source": [
        "arr.ndim"
      ]
    },
    {
      "cell_type": "code",
      "execution_count": null,
      "metadata": {
        "id": "MVK2chOJtL9K",
        "outputId": "63ae4d54-aa0f-442b-fdce-72f745ee2371"
      },
      "outputs": [
        {
          "data": {
            "text/plain": [
              "array([42, 34, 45])"
            ]
          },
          "execution_count": 76,
          "metadata": {},
          "output_type": "execute_result"
        }
      ],
      "source": [
        "arr"
      ]
    },
    {
      "cell_type": "markdown",
      "metadata": {
        "id": "kAuZEzC7tL9L"
      },
      "source": [
        "### 2-D array: Array having 1-D arrays as its elements.\n",
        "- Represents matrix or 2md order tensor"
      ]
    },
    {
      "cell_type": "code",
      "execution_count": null,
      "metadata": {
        "id": "qgaIESKGtL9L"
      },
      "outputs": [],
      "source": [
        "arr = np.array([[1,2,3],[4,5,6]])"
      ]
    },
    {
      "cell_type": "code",
      "execution_count": null,
      "metadata": {
        "id": "q-_CGO-btL9M",
        "outputId": "bddebaf7-2c17-47ed-a326-ecc730ce5f22"
      },
      "outputs": [
        {
          "data": {
            "text/plain": [
              "array([[1, 2, 3],\n",
              "       [4, 5, 6]])"
            ]
          },
          "execution_count": 78,
          "metadata": {},
          "output_type": "execute_result"
        }
      ],
      "source": [
        "arr"
      ]
    },
    {
      "cell_type": "code",
      "execution_count": null,
      "metadata": {
        "id": "56VlSQZOtL9M",
        "outputId": "a1197ce8-3dd8-4729-97a8-93b3616e64c2"
      },
      "outputs": [
        {
          "data": {
            "text/plain": [
              "2"
            ]
          },
          "execution_count": 79,
          "metadata": {},
          "output_type": "execute_result"
        }
      ],
      "source": [
        "arr.ndim"
      ]
    },
    {
      "cell_type": "code",
      "execution_count": null,
      "metadata": {
        "id": "QxUOZWT6tL9N"
      },
      "outputs": [],
      "source": [
        "mat  = np.mat(np.array([[1,2,3],[4,5,6]]))"
      ]
    },
    {
      "cell_type": "code",
      "execution_count": null,
      "metadata": {
        "id": "Dlfydk3ItL9N",
        "outputId": "566611a8-368e-4621-ed6b-d8c25dcbb3dc"
      },
      "outputs": [
        {
          "data": {
            "text/plain": [
              "matrix([[1, 2, 3],\n",
              "        [4, 5, 6]])"
            ]
          },
          "execution_count": 81,
          "metadata": {},
          "output_type": "execute_result"
        }
      ],
      "source": [
        "mat"
      ]
    },
    {
      "cell_type": "code",
      "execution_count": null,
      "metadata": {
        "id": "8sk2QmEstL9O",
        "outputId": "5ca99e6c-69b4-46fe-8bbc-836d81d82458"
      },
      "outputs": [
        {
          "data": {
            "text/plain": [
              "numpy.matrix"
            ]
          },
          "execution_count": 82,
          "metadata": {},
          "output_type": "execute_result"
        }
      ],
      "source": [
        "type(mat)"
      ]
    },
    {
      "cell_type": "code",
      "execution_count": null,
      "metadata": {
        "id": "bn7c7X79tL9O",
        "outputId": "fa56736d-a514-4e76-b750-b495808d096a"
      },
      "outputs": [
        {
          "data": {
            "text/plain": [
              "2"
            ]
          },
          "execution_count": 83,
          "metadata": {},
          "output_type": "execute_result"
        }
      ],
      "source": [
        "mat.ndim"
      ]
    },
    {
      "cell_type": "markdown",
      "metadata": {
        "id": "3n65Ctj-tL9P"
      },
      "source": [
        "### 3- D array : 2-D arrays behave as element\n",
        "- Represents 3rd order tensor"
      ]
    },
    {
      "cell_type": "code",
      "execution_count": null,
      "metadata": {
        "id": "FNZxua_ptL9P"
      },
      "outputs": [],
      "source": [
        "arr = np.array([[[1,2,3],[4,5,6]],[[1,2,3],[3,4,5]]])"
      ]
    },
    {
      "cell_type": "code",
      "execution_count": null,
      "metadata": {
        "id": "QRXPXFmEtL9Q",
        "outputId": "ec967bc8-a58b-4d92-f41b-34a57d78de66"
      },
      "outputs": [
        {
          "data": {
            "text/plain": [
              "3"
            ]
          },
          "execution_count": 85,
          "metadata": {},
          "output_type": "execute_result"
        }
      ],
      "source": [
        "arr.ndim"
      ]
    },
    {
      "cell_type": "code",
      "execution_count": null,
      "metadata": {
        "id": "bR6_H6-6tL9Q",
        "outputId": "fb4319d7-be6d-41f0-c1d4-94a8ead644f4"
      },
      "outputs": [
        {
          "data": {
            "text/plain": [
              "array([[[1, 2, 3],\n",
              "        [4, 5, 6]],\n",
              "\n",
              "       [[1, 2, 3],\n",
              "        [3, 4, 5]]])"
            ]
          },
          "execution_count": 86,
          "metadata": {},
          "output_type": "execute_result"
        }
      ],
      "source": [
        "arr"
      ]
    },
    {
      "cell_type": "markdown",
      "metadata": {
        "id": "ncdFiXnVtL9R"
      },
      "source": [
        "### Higher Dimesnional Arrays\n",
        "- An array can have any number of dimensions\n",
        "- ndmin argument"
      ]
    },
    {
      "cell_type": "code",
      "execution_count": null,
      "metadata": {
        "id": "T43SlCZptL9R"
      },
      "outputs": [],
      "source": [
        "arr = np.array([1,2,3], ndmin = 5)"
      ]
    },
    {
      "cell_type": "code",
      "execution_count": null,
      "metadata": {
        "id": "e-z_vmjFtL9S",
        "outputId": "cb9eb2d2-457e-4649-8ed2-33ab4bf57a95"
      },
      "outputs": [
        {
          "data": {
            "text/plain": [
              "array([[[[[1, 2, 3]]]]])"
            ]
          },
          "execution_count": 89,
          "metadata": {},
          "output_type": "execute_result"
        }
      ],
      "source": [
        "arr"
      ]
    },
    {
      "cell_type": "code",
      "execution_count": null,
      "metadata": {
        "id": "ItgsKwRttL9S",
        "outputId": "1809f0a1-5fb5-4d9b-ffcf-91730dc2d6fe"
      },
      "outputs": [
        {
          "data": {
            "text/plain": [
              "5"
            ]
          },
          "execution_count": 90,
          "metadata": {},
          "output_type": "execute_result"
        }
      ],
      "source": [
        "arr.ndim"
      ]
    },
    {
      "cell_type": "markdown",
      "metadata": {
        "id": "yBaTKRWLtL9W"
      },
      "source": [
        "### Shape: Checking shape"
      ]
    },
    {
      "cell_type": "code",
      "execution_count": null,
      "metadata": {
        "id": "MeMxkCAYtL9W"
      },
      "outputs": [],
      "source": [
        "arr = np.array([[1,2,3],[4,5,6]])"
      ]
    },
    {
      "cell_type": "code",
      "execution_count": null,
      "metadata": {
        "id": "M3DnUV6LtL9X",
        "outputId": "4c8fb1ac-0bbc-48ad-a19b-21bbebdc44f8"
      },
      "outputs": [
        {
          "data": {
            "text/plain": [
              "(2, 3)"
            ]
          },
          "execution_count": 92,
          "metadata": {},
          "output_type": "execute_result"
        }
      ],
      "source": [
        "arr.shape"
      ]
    },
    {
      "cell_type": "code",
      "execution_count": null,
      "metadata": {
        "id": "kS4nBVmktL9X",
        "outputId": "931ee311-4896-48a3-d69b-afbd05a31022"
      },
      "outputs": [
        {
          "data": {
            "text/plain": [
              "array([[1, 2, 3],\n",
              "       [4, 5, 6]])"
            ]
          },
          "execution_count": 93,
          "metadata": {},
          "output_type": "execute_result"
        }
      ],
      "source": [
        "arr"
      ]
    },
    {
      "cell_type": "code",
      "execution_count": null,
      "metadata": {
        "id": "lirdSZR9tL9Y"
      },
      "outputs": [],
      "source": [
        "arr = np.array([[[1,2,3],[4,5,6]],[[1,2,3],[3,4,5]]])"
      ]
    },
    {
      "cell_type": "code",
      "execution_count": null,
      "metadata": {
        "id": "qJstVvv9tL9Y",
        "outputId": "9fc85e9c-24f1-4839-a623-7931aa6b796b"
      },
      "outputs": [
        {
          "data": {
            "text/plain": [
              "(2, 2, 3)"
            ]
          },
          "execution_count": 95,
          "metadata": {},
          "output_type": "execute_result"
        }
      ],
      "source": [
        "arr.shape"
      ]
    },
    {
      "cell_type": "code",
      "execution_count": null,
      "metadata": {
        "id": "bBpROQButL9Z",
        "outputId": "b4db74f3-52a4-4003-83e5-3aaf0d397fba"
      },
      "outputs": [
        {
          "data": {
            "text/plain": [
              "array([[[1, 2, 3],\n",
              "        [4, 5, 6]],\n",
              "\n",
              "       [[1, 2, 3],\n",
              "        [3, 4, 5]]])"
            ]
          },
          "execution_count": 96,
          "metadata": {},
          "output_type": "execute_result"
        }
      ],
      "source": [
        "arr"
      ]
    },
    {
      "cell_type": "markdown",
      "metadata": {
        "id": "jrsLr_WqtL9a"
      },
      "source": [
        "# Using inbuilt methods for generating arrays"
      ]
    },
    {
      "cell_type": "markdown",
      "metadata": {
        "id": "Gdl1GTCttL9a"
      },
      "source": [
        "## Arange: Return an array with evenly spaced elements in the given interval.\n",
        "    - np.arange(start,stop,step)"
      ]
    },
    {
      "cell_type": "code",
      "execution_count": null,
      "metadata": {
        "id": "Za8W4akVtL9b"
      },
      "outputs": [],
      "source": [
        "#Make an array of pressures ranging from 0 to 5000 psi with a step size of 500 psi\n",
        "pressures = np.arange(0,5500,500)"
      ]
    },
    {
      "cell_type": "code",
      "execution_count": null,
      "metadata": {
        "id": "zdQLLFhvtL9b",
        "outputId": "a7d63646-579c-435c-c1ab-b28c38420c8a"
      },
      "outputs": [
        {
          "data": {
            "text/plain": [
              "array([   0,  500, 1000, 1500, 2000, 2500, 3000, 3500, 4000, 4500, 5000])"
            ]
          },
          "execution_count": 102,
          "metadata": {},
          "output_type": "execute_result"
        }
      ],
      "source": [
        "pressures"
      ]
    },
    {
      "cell_type": "code",
      "execution_count": null,
      "metadata": {
        "id": "bqXdOKbItL9c",
        "outputId": "7c973f48-5cf7-4eb1-aaef-39e25493d47c"
      },
      "outputs": [
        {
          "data": {
            "text/plain": [
              "1"
            ]
          },
          "execution_count": 103,
          "metadata": {},
          "output_type": "execute_result"
        }
      ],
      "source": [
        "pressures.ndim"
      ]
    },
    {
      "cell_type": "markdown",
      "metadata": {
        "id": "vnRhvvVbtL9c"
      },
      "source": [
        "## Linspace: Creates lineraly spaced array\n",
        "- Evenly spaced numbers over a specified interval\n",
        "- Creating n datapoints between two points"
      ]
    },
    {
      "cell_type": "code",
      "execution_count": null,
      "metadata": {
        "id": "pxOhlIXutL9d",
        "outputId": "94c3968e-9213-4300-f984-97202dcebd3f"
      },
      "outputs": [
        {
          "data": {
            "text/plain": [
              "array([0.        , 0.01010101, 0.02020202, 0.03030303, 0.04040404,\n",
              "       0.05050505, 0.06060606, 0.07070707, 0.08080808, 0.09090909,\n",
              "       0.1010101 , 0.11111111, 0.12121212, 0.13131313, 0.14141414,\n",
              "       0.15151515, 0.16161616, 0.17171717, 0.18181818, 0.19191919,\n",
              "       0.2020202 , 0.21212121, 0.22222222, 0.23232323, 0.24242424,\n",
              "       0.25252525, 0.26262626, 0.27272727, 0.28282828, 0.29292929,\n",
              "       0.3030303 , 0.31313131, 0.32323232, 0.33333333, 0.34343434,\n",
              "       0.35353535, 0.36363636, 0.37373737, 0.38383838, 0.39393939,\n",
              "       0.4040404 , 0.41414141, 0.42424242, 0.43434343, 0.44444444,\n",
              "       0.45454545, 0.46464646, 0.47474747, 0.48484848, 0.49494949,\n",
              "       0.50505051, 0.51515152, 0.52525253, 0.53535354, 0.54545455,\n",
              "       0.55555556, 0.56565657, 0.57575758, 0.58585859, 0.5959596 ,\n",
              "       0.60606061, 0.61616162, 0.62626263, 0.63636364, 0.64646465,\n",
              "       0.65656566, 0.66666667, 0.67676768, 0.68686869, 0.6969697 ,\n",
              "       0.70707071, 0.71717172, 0.72727273, 0.73737374, 0.74747475,\n",
              "       0.75757576, 0.76767677, 0.77777778, 0.78787879, 0.7979798 ,\n",
              "       0.80808081, 0.81818182, 0.82828283, 0.83838384, 0.84848485,\n",
              "       0.85858586, 0.86868687, 0.87878788, 0.88888889, 0.8989899 ,\n",
              "       0.90909091, 0.91919192, 0.92929293, 0.93939394, 0.94949495,\n",
              "       0.95959596, 0.96969697, 0.97979798, 0.98989899, 1.        ])"
            ]
          },
          "execution_count": 104,
          "metadata": {},
          "output_type": "execute_result"
        }
      ],
      "source": [
        "# Create saturation array from 0 to 1 having 100 points\n",
        "saturations = np.linspace(0,1,100)\n",
        "saturations"
      ]
    },
    {
      "cell_type": "code",
      "execution_count": null,
      "metadata": {
        "id": "Cq0g9__-tL9e",
        "outputId": "1caab79a-0ca6-407e-aac8-ed567f72b976"
      },
      "outputs": [
        {
          "data": {
            "text/plain": [
              "(100,)"
            ]
          },
          "execution_count": 105,
          "metadata": {},
          "output_type": "execute_result"
        }
      ],
      "source": [
        "saturations.shape"
      ]
    },
    {
      "cell_type": "markdown",
      "metadata": {
        "id": "uw2a5SL_tL9e"
      },
      "source": [
        "## zeroes, ones and identity matrixes\n",
        "- Very useful in reservoir simulation"
      ]
    },
    {
      "cell_type": "code",
      "execution_count": null,
      "metadata": {
        "id": "LcYvEPjatL9f",
        "outputId": "fead8572-613e-4fb2-994d-6d050d146103"
      },
      "outputs": [
        {
          "data": {
            "text/plain": [
              "array([[0., 0., 0., ..., 0., 0., 0.],\n",
              "       [0., 0., 0., ..., 0., 0., 0.],\n",
              "       [0., 0., 0., ..., 0., 0., 0.],\n",
              "       ...,\n",
              "       [0., 0., 0., ..., 0., 0., 0.],\n",
              "       [0., 0., 0., ..., 0., 0., 0.],\n",
              "       [0., 0., 0., ..., 0., 0., 0.]])"
            ]
          },
          "execution_count": 106,
          "metadata": {},
          "output_type": "execute_result"
        }
      ],
      "source": [
        "#zeroes = place holder, useful in reservoir simulation, placeholder for values of properties of reservoir\n",
        "zero = np.zeros((50,50))\n",
        "zero"
      ]
    },
    {
      "cell_type": "code",
      "execution_count": null,
      "metadata": {
        "id": "nIR1y0lutL9f"
      },
      "outputs": [],
      "source": [
        "zero[1][2] = 30"
      ]
    },
    {
      "cell_type": "code",
      "execution_count": null,
      "metadata": {
        "id": "nUNWilALtL9g",
        "outputId": "8c8e2b64-68cc-482a-cd47-d6362937c990"
      },
      "outputs": [
        {
          "data": {
            "text/plain": [
              "array([[ 0.,  0.,  0., ...,  0.,  0.,  0.],\n",
              "       [ 0.,  0., 30., ...,  0.,  0.,  0.],\n",
              "       [ 0.,  0.,  0., ...,  0.,  0.,  0.],\n",
              "       ...,\n",
              "       [ 0.,  0.,  0., ...,  0.,  0.,  0.],\n",
              "       [ 0.,  0.,  0., ...,  0.,  0.,  0.],\n",
              "       [ 0.,  0.,  0., ...,  0.,  0.,  0.]])"
            ]
          },
          "execution_count": 108,
          "metadata": {},
          "output_type": "execute_result"
        }
      ],
      "source": [
        "zero"
      ]
    },
    {
      "cell_type": "code",
      "execution_count": null,
      "metadata": {
        "id": "057e3AIftL9g",
        "outputId": "a2cb1692-8a96-4b7e-f05f-1fa32298d913"
      },
      "outputs": [
        {
          "data": {
            "text/plain": [
              "array([[1., 1., 1., 1., 1., 1., 1., 1., 1., 1.],\n",
              "       [1., 1., 1., 1., 1., 1., 1., 1., 1., 1.],\n",
              "       [1., 1., 1., 1., 1., 1., 1., 1., 1., 1.],\n",
              "       [1., 1., 1., 1., 1., 1., 1., 1., 1., 1.],\n",
              "       [1., 1., 1., 1., 1., 1., 1., 1., 1., 1.],\n",
              "       [1., 1., 1., 1., 1., 1., 1., 1., 1., 1.],\n",
              "       [1., 1., 1., 1., 1., 1., 1., 1., 1., 1.],\n",
              "       [1., 1., 1., 1., 1., 1., 1., 1., 1., 1.],\n",
              "       [1., 1., 1., 1., 1., 1., 1., 1., 1., 1.],\n",
              "       [1., 1., 1., 1., 1., 1., 1., 1., 1., 1.],\n",
              "       [1., 1., 1., 1., 1., 1., 1., 1., 1., 1.],\n",
              "       [1., 1., 1., 1., 1., 1., 1., 1., 1., 1.],\n",
              "       [1., 1., 1., 1., 1., 1., 1., 1., 1., 1.],\n",
              "       [1., 1., 1., 1., 1., 1., 1., 1., 1., 1.],\n",
              "       [1., 1., 1., 1., 1., 1., 1., 1., 1., 1.],\n",
              "       [1., 1., 1., 1., 1., 1., 1., 1., 1., 1.],\n",
              "       [1., 1., 1., 1., 1., 1., 1., 1., 1., 1.],\n",
              "       [1., 1., 1., 1., 1., 1., 1., 1., 1., 1.],\n",
              "       [1., 1., 1., 1., 1., 1., 1., 1., 1., 1.],\n",
              "       [1., 1., 1., 1., 1., 1., 1., 1., 1., 1.],\n",
              "       [1., 1., 1., 1., 1., 1., 1., 1., 1., 1.],\n",
              "       [1., 1., 1., 1., 1., 1., 1., 1., 1., 1.],\n",
              "       [1., 1., 1., 1., 1., 1., 1., 1., 1., 1.],\n",
              "       [1., 1., 1., 1., 1., 1., 1., 1., 1., 1.],\n",
              "       [1., 1., 1., 1., 1., 1., 1., 1., 1., 1.],\n",
              "       [1., 1., 1., 1., 1., 1., 1., 1., 1., 1.],\n",
              "       [1., 1., 1., 1., 1., 1., 1., 1., 1., 1.],\n",
              "       [1., 1., 1., 1., 1., 1., 1., 1., 1., 1.],\n",
              "       [1., 1., 1., 1., 1., 1., 1., 1., 1., 1.],\n",
              "       [1., 1., 1., 1., 1., 1., 1., 1., 1., 1.],\n",
              "       [1., 1., 1., 1., 1., 1., 1., 1., 1., 1.],\n",
              "       [1., 1., 1., 1., 1., 1., 1., 1., 1., 1.],\n",
              "       [1., 1., 1., 1., 1., 1., 1., 1., 1., 1.],\n",
              "       [1., 1., 1., 1., 1., 1., 1., 1., 1., 1.],\n",
              "       [1., 1., 1., 1., 1., 1., 1., 1., 1., 1.],\n",
              "       [1., 1., 1., 1., 1., 1., 1., 1., 1., 1.],\n",
              "       [1., 1., 1., 1., 1., 1., 1., 1., 1., 1.],\n",
              "       [1., 1., 1., 1., 1., 1., 1., 1., 1., 1.],\n",
              "       [1., 1., 1., 1., 1., 1., 1., 1., 1., 1.],\n",
              "       [1., 1., 1., 1., 1., 1., 1., 1., 1., 1.],\n",
              "       [1., 1., 1., 1., 1., 1., 1., 1., 1., 1.],\n",
              "       [1., 1., 1., 1., 1., 1., 1., 1., 1., 1.],\n",
              "       [1., 1., 1., 1., 1., 1., 1., 1., 1., 1.],\n",
              "       [1., 1., 1., 1., 1., 1., 1., 1., 1., 1.],\n",
              "       [1., 1., 1., 1., 1., 1., 1., 1., 1., 1.],\n",
              "       [1., 1., 1., 1., 1., 1., 1., 1., 1., 1.],\n",
              "       [1., 1., 1., 1., 1., 1., 1., 1., 1., 1.],\n",
              "       [1., 1., 1., 1., 1., 1., 1., 1., 1., 1.],\n",
              "       [1., 1., 1., 1., 1., 1., 1., 1., 1., 1.],\n",
              "       [1., 1., 1., 1., 1., 1., 1., 1., 1., 1.]])"
            ]
          },
          "execution_count": 112,
          "metadata": {},
          "output_type": "execute_result"
        }
      ],
      "source": [
        "#ones = operations on reservoir grids \n",
        "p = np.ones((50,10))\n",
        "p"
      ]
    },
    {
      "cell_type": "code",
      "execution_count": null,
      "metadata": {
        "id": "N1tsgaFStL9h",
        "outputId": "a2665d3f-8874-4688-bd8c-a3ad42b7d277"
      },
      "outputs": [
        {
          "data": {
            "text/plain": [
              "array([[500., 500., 500., ..., 500., 500., 500.],\n",
              "       [500., 500., 500., ..., 500., 500., 500.],\n",
              "       [500., 500., 500., ..., 500., 500., 500.],\n",
              "       ...,\n",
              "       [500., 500., 500., ..., 500., 500., 500.],\n",
              "       [500., 500., 500., ..., 500., 500., 500.],\n",
              "       [500., 500., 500., ..., 500., 500., 500.]])"
            ]
          },
          "execution_count": 110,
          "metadata": {},
          "output_type": "execute_result"
        }
      ],
      "source": [
        "pi = 500\n",
        "p*pi"
      ]
    },
    {
      "cell_type": "code",
      "execution_count": null,
      "metadata": {
        "id": "f_cfaOT6tL9i",
        "outputId": "567994a3-39b4-4ad9-fb3c-5d4718516615"
      },
      "outputs": [
        {
          "data": {
            "text/plain": [
              "array([[1., 0., 0., 0.],\n",
              "       [0., 1., 0., 0.],\n",
              "       [0., 0., 1., 0.],\n",
              "       [0., 0., 0., 1.]])"
            ]
          },
          "execution_count": 111,
          "metadata": {},
          "output_type": "execute_result"
        }
      ],
      "source": [
        "#eye: Creates an identity matrix\n",
        "i = np.eye(4)\n",
        "i"
      ]
    },
    {
      "cell_type": "markdown",
      "metadata": {
        "id": "slFjtrhKtL9i"
      },
      "source": [
        "# Array Indexing (1 D Arrays)\n",
        "- Accessing array elements\n",
        "- The indexes starts with 0 just like lists, meaning that first element has index 0, and second has index 1."
      ]
    },
    {
      "cell_type": "code",
      "execution_count": null,
      "metadata": {
        "id": "sjt9bezKtL9j"
      },
      "outputs": [],
      "source": [
        "import numpy as np "
      ]
    },
    {
      "cell_type": "code",
      "execution_count": null,
      "metadata": {
        "id": "_K_uvKFbtL9j"
      },
      "outputs": [],
      "source": [
        "array = np.array([1,2,3])"
      ]
    },
    {
      "cell_type": "code",
      "execution_count": null,
      "metadata": {
        "id": "sGKG5wWItL9k",
        "outputId": "bcd57fd8-a495-49bf-c412-918ab4293b9e"
      },
      "outputs": [
        {
          "data": {
            "text/plain": [
              "numpy.int32"
            ]
          },
          "execution_count": 34,
          "metadata": {},
          "output_type": "execute_result"
        }
      ],
      "source": [
        "type(array[0])"
      ]
    },
    {
      "cell_type": "code",
      "execution_count": null,
      "metadata": {
        "id": "J0U9DpE4tL9l"
      },
      "outputs": [],
      "source": [
        "arr = np.array([1,23,45,67,'pfs','jaiyesh','last'])"
      ]
    },
    {
      "cell_type": "code",
      "execution_count": null,
      "metadata": {
        "id": "NdUcBX2dtL9l",
        "outputId": "d2a25a8b-4c57-45c5-bb4f-5233af1c1d9c"
      },
      "outputs": [
        {
          "data": {
            "text/plain": [
              "numpy.str_"
            ]
          },
          "execution_count": 35,
          "metadata": {},
          "output_type": "execute_result"
        }
      ],
      "source": [
        "type(arr[0])"
      ]
    },
    {
      "cell_type": "code",
      "execution_count": null,
      "metadata": {
        "id": "4VI-cC2wtL9m",
        "outputId": "cde454f8-9d59-476c-ed8c-f57ca1791ce0"
      },
      "outputs": [
        {
          "data": {
            "text/plain": [
              "'last'"
            ]
          },
          "execution_count": 36,
          "metadata": {},
          "output_type": "execute_result"
        }
      ],
      "source": [
        "arr[6]"
      ]
    },
    {
      "cell_type": "code",
      "execution_count": null,
      "metadata": {
        "id": "rRAN58matL9m",
        "outputId": "a9341b5b-c9ff-4b0d-8e21-b406afae792c"
      },
      "outputs": [
        {
          "data": {
            "text/plain": [
              "'last'"
            ]
          },
          "execution_count": 37,
          "metadata": {},
          "output_type": "execute_result"
        }
      ],
      "source": [
        "arr[-1]"
      ]
    },
    {
      "cell_type": "code",
      "execution_count": null,
      "metadata": {
        "id": "VIcBzkPDtL9n",
        "outputId": "a9ad213e-50f1-4c73-e916-16a4aec23661"
      },
      "outputs": [
        {
          "data": {
            "text/plain": [
              "'45'"
            ]
          },
          "execution_count": 38,
          "metadata": {},
          "output_type": "execute_result"
        }
      ],
      "source": [
        "arr[2]"
      ]
    },
    {
      "cell_type": "code",
      "execution_count": null,
      "metadata": {
        "id": "33SXXpHJtL9o",
        "outputId": "2d6f5aa6-8ba5-42a4-d067-6e9732a73dc7"
      },
      "outputs": [
        {
          "data": {
            "text/plain": [
              "'45'"
            ]
          },
          "execution_count": 39,
          "metadata": {},
          "output_type": "execute_result"
        }
      ],
      "source": [
        "arr[-5]"
      ]
    },
    {
      "cell_type": "code",
      "execution_count": null,
      "metadata": {
        "id": "ZQG8rVxltL9o",
        "outputId": "c551d766-c393-4c4e-fabf-42a80c7032fa"
      },
      "outputs": [
        {
          "data": {
            "text/plain": [
              "5"
            ]
          },
          "execution_count": 40,
          "metadata": {},
          "output_type": "execute_result"
        }
      ],
      "source": [
        "array[2]+ array[1]"
      ]
    },
    {
      "cell_type": "code",
      "execution_count": null,
      "metadata": {
        "id": "OgMayJp6tL9p",
        "outputId": "b091146e-65f6-4d37-ed7f-b5bf1574d243"
      },
      "outputs": [
        {
          "data": {
            "text/plain": [
              "'last1'"
            ]
          },
          "execution_count": 42,
          "metadata": {},
          "output_type": "execute_result"
        }
      ],
      "source": [
        "arr[-1] + arr[0]"
      ]
    },
    {
      "cell_type": "markdown",
      "metadata": {
        "id": "lKdjv9vStL9p"
      },
      "source": [
        "# Accesing Multiple elements (Array Slicing)\n",
        "- Taking multiple elements\n",
        "-  syntax array[start:stop:step size]\n",
        " - If we don't pass start its considered 0\n",
        "\n",
        " - If we don't pass end its considered length of array in that dimension\n",
        "\n",
        " - If we don't pass step its considered 1"
      ]
    },
    {
      "cell_type": "code",
      "execution_count": null,
      "metadata": {
        "id": "_oDcEpbZtL9q"
      },
      "outputs": [],
      "source": [
        "import numpy as np"
      ]
    },
    {
      "cell_type": "code",
      "execution_count": null,
      "metadata": {
        "id": "D-TXiJSatL9q"
      },
      "outputs": [],
      "source": [
        "arr = np.array([12,23,45,6,67,78,65,'jaiyesh','pfs','last'])"
      ]
    },
    {
      "cell_type": "code",
      "execution_count": null,
      "metadata": {
        "id": "sG0B6dQGtL9r",
        "outputId": "ebb6b386-5fcc-420e-baa2-a6531e48fc97"
      },
      "outputs": [
        {
          "data": {
            "text/plain": [
              "array(['23', '67', 'last'], dtype='<U11')"
            ]
          },
          "execution_count": 57,
          "metadata": {},
          "output_type": "execute_result"
        }
      ],
      "source": [
        "arr[[1,4,-1]]"
      ]
    },
    {
      "cell_type": "code",
      "execution_count": null,
      "metadata": {
        "id": "Shcpv7PWtL9r",
        "outputId": "51655d4c-efc8-4e38-8dc1-dc0efe3e5a66"
      },
      "outputs": [
        {
          "data": {
            "text/plain": [
              "array(['12', '23', '45', '6', '67'], dtype='<U11')"
            ]
          },
          "execution_count": 58,
          "metadata": {},
          "output_type": "execute_result"
        }
      ],
      "source": [
        "arr[0:5]"
      ]
    },
    {
      "cell_type": "code",
      "execution_count": null,
      "metadata": {
        "id": "jjogmYw4tL9s",
        "outputId": "b11cb5e0-bf63-4966-c40d-763c7cb708d2"
      },
      "outputs": [
        {
          "data": {
            "text/plain": [
              "array(['12', '45', '67', '65', 'pfs'], dtype='<U11')"
            ]
          },
          "execution_count": 59,
          "metadata": {},
          "output_type": "execute_result"
        }
      ],
      "source": [
        "arr[::2]"
      ]
    },
    {
      "cell_type": "code",
      "execution_count": null,
      "metadata": {
        "id": "5huGELPttL9t",
        "outputId": "5618f60a-61eb-44f5-e959-f36a5315e367"
      },
      "outputs": [
        {
          "data": {
            "text/plain": [
              "array(['12', '23', '45', '6', '67', '78'], dtype='<U11')"
            ]
          },
          "execution_count": 60,
          "metadata": {},
          "output_type": "execute_result"
        }
      ],
      "source": [
        "arr[:6]"
      ]
    },
    {
      "cell_type": "code",
      "execution_count": null,
      "metadata": {
        "id": "8PLVhzPCtL9t",
        "outputId": "b48caf2a-7471-443c-e3aa-673409770069"
      },
      "outputs": [
        {
          "data": {
            "text/plain": [
              "array(['65', 'jaiyesh', 'pfs', 'last'], dtype='<U11')"
            ]
          },
          "execution_count": 61,
          "metadata": {},
          "output_type": "execute_result"
        }
      ],
      "source": [
        "arr[6:]"
      ]
    },
    {
      "cell_type": "code",
      "execution_count": null,
      "metadata": {
        "id": "dyRVtB7ktL9u",
        "outputId": "85fc1d74-e957-406d-a70e-134c6f0c7eab"
      },
      "outputs": [
        {
          "data": {
            "text/plain": [
              "array(['last', 'pfs', 'jaiyesh', '65', '78', '67', '6', '45', '23', '12'],\n",
              "      dtype='<U11')"
            ]
          },
          "execution_count": 64,
          "metadata": {},
          "output_type": "execute_result"
        }
      ],
      "source": [
        "arr[-1::-1]"
      ]
    },
    {
      "cell_type": "code",
      "execution_count": null,
      "metadata": {
        "id": "YpgI_z8ctL9u",
        "outputId": "0458239b-a958-44ba-e3dc-a8e8c2c4ffd2"
      },
      "outputs": [
        {
          "data": {
            "text/plain": [
              "array(['last', 'jaiyesh', '78', '6', '23'], dtype='<U11')"
            ]
          },
          "execution_count": 65,
          "metadata": {},
          "output_type": "execute_result"
        }
      ],
      "source": [
        "arr[-1::-2]"
      ]
    },
    {
      "cell_type": "code",
      "execution_count": null,
      "metadata": {
        "id": "UaPL8v28tL9v"
      },
      "outputs": [],
      "source": [
        "perm = np.array([10,12,23,12,5,7])\n",
        "dp = np.array([12,23,345,45,56,32])\n",
        "A = 20\n",
        "vis = 12"
      ]
    },
    {
      "cell_type": "code",
      "execution_count": null,
      "metadata": {
        "id": "0B8PedkMtL9w"
      },
      "outputs": [],
      "source": [
        "q2_4 = perm[1:4]*A*dp[1:4]/vis"
      ]
    },
    {
      "cell_type": "code",
      "execution_count": null,
      "metadata": {
        "id": "kxURKHdptL9w",
        "outputId": "7f4c5df8-ffb2-47e7-b2ed-9bcbf35b0ed6"
      },
      "outputs": [
        {
          "data": {
            "text/plain": [
              "array([  460., 13225.,   900.])"
            ]
          },
          "execution_count": 68,
          "metadata": {},
          "output_type": "execute_result"
        }
      ],
      "source": [
        "q2_4"
      ]
    },
    {
      "cell_type": "markdown",
      "metadata": {
        "id": "-y1rl7zttL9x"
      },
      "source": [
        "# Indexing for Higher dimensional Arrays"
      ]
    },
    {
      "cell_type": "markdown",
      "metadata": {
        "id": "NHwiMVm7tL9x"
      },
      "source": [
        "## Accesing elements"
      ]
    },
    {
      "cell_type": "code",
      "execution_count": null,
      "metadata": {
        "id": "GT-81J8QtL9y"
      },
      "outputs": [],
      "source": [
        "import numpy as np"
      ]
    },
    {
      "cell_type": "code",
      "execution_count": null,
      "metadata": {
        "id": "CVtP1NwytL9y"
      },
      "outputs": [],
      "source": [
        "#2d arrays\n",
        "arr = np.array([[1,2,3],[4,5,6],[7,8,9],[12,34,23]])"
      ]
    },
    {
      "cell_type": "code",
      "execution_count": null,
      "metadata": {
        "id": "D3x97AdGtL9z",
        "outputId": "13520bfc-6461-4328-a4ef-a5d542c5f570"
      },
      "outputs": [
        {
          "data": {
            "text/plain": [
              "array([[ 1,  2,  3],\n",
              "       [ 4,  5,  6],\n",
              "       [ 7,  8,  9],\n",
              "       [12, 34, 23]])"
            ]
          },
          "execution_count": 3,
          "metadata": {},
          "output_type": "execute_result"
        }
      ],
      "source": [
        "arr"
      ]
    },
    {
      "cell_type": "code",
      "execution_count": null,
      "metadata": {
        "id": "cNlEb_i5tL9z",
        "outputId": "56721848-5e04-4e34-f037-0b571c53f29b"
      },
      "outputs": [
        {
          "data": {
            "text/plain": [
              "2"
            ]
          },
          "execution_count": 4,
          "metadata": {},
          "output_type": "execute_result"
        }
      ],
      "source": [
        "arr.ndim"
      ]
    },
    {
      "cell_type": "code",
      "execution_count": null,
      "metadata": {
        "id": "6PREedTDtL90",
        "outputId": "76feca13-c7d0-4393-e7f1-6d810f3a3bea"
      },
      "outputs": [
        {
          "data": {
            "text/plain": [
              "(4, 3)"
            ]
          },
          "execution_count": 5,
          "metadata": {},
          "output_type": "execute_result"
        }
      ],
      "source": [
        "arr.shape"
      ]
    },
    {
      "cell_type": "code",
      "execution_count": null,
      "metadata": {
        "id": "1c8dR-OstL90",
        "outputId": "6132e48e-2b04-4cba-c0fe-465b3d55641e"
      },
      "outputs": [
        {
          "data": {
            "text/plain": [
              "array([4, 5, 6])"
            ]
          },
          "execution_count": 6,
          "metadata": {},
          "output_type": "execute_result"
        }
      ],
      "source": [
        "arr[1]"
      ]
    },
    {
      "cell_type": "code",
      "execution_count": null,
      "metadata": {
        "id": "xEui7BnZtL91",
        "outputId": "c574516c-a7da-4222-b4c4-db5a6914049e"
      },
      "outputs": [
        {
          "data": {
            "text/plain": [
              "array([1, 2, 3])"
            ]
          },
          "execution_count": 7,
          "metadata": {},
          "output_type": "execute_result"
        }
      ],
      "source": [
        "arr[0]"
      ]
    },
    {
      "cell_type": "code",
      "execution_count": null,
      "metadata": {
        "id": "IjEhvDLatL92",
        "outputId": "8bfc4ae8-b119-4f98-ae6e-830e345774b2"
      },
      "outputs": [
        {
          "data": {
            "text/plain": [
              "5"
            ]
          },
          "execution_count": 8,
          "metadata": {},
          "output_type": "execute_result"
        }
      ],
      "source": [
        "arr[1][1]"
      ]
    },
    {
      "cell_type": "code",
      "execution_count": null,
      "metadata": {
        "id": "q5MeMKENtL92",
        "outputId": "398eed05-b56a-463f-b537-3bea66949b54"
      },
      "outputs": [
        {
          "data": {
            "text/plain": [
              "5"
            ]
          },
          "execution_count": 9,
          "metadata": {},
          "output_type": "execute_result"
        }
      ],
      "source": [
        "arr[1,1]"
      ]
    },
    {
      "cell_type": "code",
      "execution_count": null,
      "metadata": {
        "id": "CmtnotxMtL93",
        "outputId": "35c58998-2d1b-4a1a-a47c-8fc609b2f9a3"
      },
      "outputs": [
        {
          "data": {
            "text/plain": [
              "array([[ 1,  2,  3],\n",
              "       [ 4,  5,  6],\n",
              "       [ 7,  8,  9],\n",
              "       [12, 34, 23]])"
            ]
          },
          "execution_count": 10,
          "metadata": {},
          "output_type": "execute_result"
        }
      ],
      "source": [
        "arr"
      ]
    },
    {
      "cell_type": "code",
      "execution_count": null,
      "metadata": {
        "id": "nF39ve39tL94",
        "outputId": "16354109-c08e-4ab4-f338-7610f7f6162e"
      },
      "outputs": [
        {
          "data": {
            "text/plain": [
              "8"
            ]
          },
          "execution_count": 11,
          "metadata": {},
          "output_type": "execute_result"
        }
      ],
      "source": [
        "arr[-2][-2]"
      ]
    },
    {
      "cell_type": "code",
      "execution_count": null,
      "metadata": {
        "id": "Ic0DqF1PtL94",
        "outputId": "cf8d1d8f-5897-409e-e8e1-882d14751dee"
      },
      "outputs": [
        {
          "data": {
            "text/plain": [
              "8"
            ]
          },
          "execution_count": 12,
          "metadata": {},
          "output_type": "execute_result"
        }
      ],
      "source": [
        "arr[-2,-2]"
      ]
    },
    {
      "cell_type": "code",
      "execution_count": null,
      "metadata": {
        "id": "u4H76aQMtL95"
      },
      "outputs": [],
      "source": [
        "# 3d Arrays\n",
        "ar = np.array([[[1,2,3],[2,3,4]],[[34,45,56],[34,78,23]]])"
      ]
    },
    {
      "cell_type": "code",
      "execution_count": null,
      "metadata": {
        "id": "iGs1fenttL95",
        "outputId": "f091212c-8f6d-4870-bf0c-4303c18efb34"
      },
      "outputs": [
        {
          "data": {
            "text/plain": [
              "array([[[ 1,  2,  3],\n",
              "        [ 2,  3,  4]],\n",
              "\n",
              "       [[34, 45, 56],\n",
              "        [34, 78, 23]]])"
            ]
          },
          "execution_count": 14,
          "metadata": {},
          "output_type": "execute_result"
        }
      ],
      "source": [
        "ar"
      ]
    },
    {
      "cell_type": "code",
      "execution_count": null,
      "metadata": {
        "id": "AxOfD4nXtL96",
        "outputId": "da13f08d-2a06-4f90-98a4-981831af0db2"
      },
      "outputs": [
        {
          "data": {
            "text/plain": [
              "array([[1, 2, 3],\n",
              "       [2, 3, 4]])"
            ]
          },
          "execution_count": 15,
          "metadata": {},
          "output_type": "execute_result"
        }
      ],
      "source": [
        "ar[0]"
      ]
    },
    {
      "cell_type": "code",
      "execution_count": null,
      "metadata": {
        "id": "VVJ91uf4tL96",
        "outputId": "a3acd4d6-ffb9-4d5b-f57a-dfac343a1b57"
      },
      "outputs": [
        {
          "data": {
            "text/plain": [
              "array([2, 3, 4])"
            ]
          },
          "execution_count": 16,
          "metadata": {},
          "output_type": "execute_result"
        }
      ],
      "source": [
        "ar[0][1]"
      ]
    },
    {
      "cell_type": "code",
      "execution_count": null,
      "metadata": {
        "id": "qnh8m06UtL97",
        "outputId": "7462b524-4108-4149-e285-5191b9baf8cf"
      },
      "outputs": [
        {
          "data": {
            "text/plain": [
              "3"
            ]
          },
          "execution_count": 17,
          "metadata": {},
          "output_type": "execute_result"
        }
      ],
      "source": [
        "ar[0][1][1]"
      ]
    },
    {
      "cell_type": "code",
      "execution_count": null,
      "metadata": {
        "id": "pFqfNMartL97",
        "outputId": "3ee35fcf-254b-4037-fb7e-7aade52fe6e1"
      },
      "outputs": [
        {
          "data": {
            "text/plain": [
              "3"
            ]
          },
          "execution_count": 18,
          "metadata": {},
          "output_type": "execute_result"
        }
      ],
      "source": [
        "ar[0,1,1]"
      ]
    },
    {
      "cell_type": "code",
      "execution_count": null,
      "metadata": {
        "id": "SJoJIf7ttL98"
      },
      "outputs": [],
      "source": [
        "# High D arrays\n",
        "arr = np.array([1,2,3,4,5,6],ndmin =5)"
      ]
    },
    {
      "cell_type": "code",
      "execution_count": null,
      "metadata": {
        "id": "wq6HWPKbtL99",
        "outputId": "3da0915d-c2dd-4699-ac38-9f09eab75372"
      },
      "outputs": [
        {
          "data": {
            "text/plain": [
              "array([[[[[1, 2, 3, 4, 5, 6]]]]])"
            ]
          },
          "execution_count": 20,
          "metadata": {},
          "output_type": "execute_result"
        }
      ],
      "source": [
        "arr"
      ]
    },
    {
      "cell_type": "code",
      "execution_count": null,
      "metadata": {
        "id": "7yvmECgitL99",
        "outputId": "b11c53d2-0fc0-4ba4-bcad-56837ccacce5"
      },
      "outputs": [
        {
          "data": {
            "text/plain": [
              "5"
            ]
          },
          "execution_count": 21,
          "metadata": {},
          "output_type": "execute_result"
        }
      ],
      "source": [
        "arr.ndim"
      ]
    },
    {
      "cell_type": "code",
      "execution_count": null,
      "metadata": {
        "id": "yP7IAxSNtL99",
        "outputId": "88a00f2e-4dfc-49f0-ee5f-b3a196803858"
      },
      "outputs": [
        {
          "data": {
            "text/plain": [
              "4"
            ]
          },
          "execution_count": 26,
          "metadata": {},
          "output_type": "execute_result"
        }
      ],
      "source": [
        "arr[0][0][0][0][3]"
      ]
    },
    {
      "cell_type": "code",
      "execution_count": null,
      "metadata": {
        "id": "gNrp5pGEtL9-",
        "outputId": "d43af4ac-f5bc-4fb0-ea77-d22bd4a72162"
      },
      "outputs": [
        {
          "data": {
            "text/plain": [
              "4"
            ]
          },
          "execution_count": 29,
          "metadata": {},
          "output_type": "execute_result"
        }
      ],
      "source": [
        "arr[0,0,0,0,3]"
      ]
    },
    {
      "cell_type": "markdown",
      "metadata": {
        "id": "MX-FfT2ctL9-"
      },
      "source": [
        "# Slicing Higher dimensional Arrays"
      ]
    },
    {
      "cell_type": "code",
      "execution_count": null,
      "metadata": {
        "id": "IQ1IiS0wtL9-"
      },
      "outputs": [],
      "source": [
        "import numpy as np"
      ]
    },
    {
      "cell_type": "code",
      "execution_count": null,
      "metadata": {
        "id": "zGo2Gi1ptL9-"
      },
      "outputs": [],
      "source": [
        "#2d array\n",
        "arr = np.array([[1,2,3,4,5],[4,5,6,7,8],[12,34,56,67,85],[21,56,67,32,53]])"
      ]
    },
    {
      "cell_type": "code",
      "execution_count": null,
      "metadata": {
        "id": "DtZP4HTBtL9_",
        "outputId": "b7a139a8-cb94-4f24-de68-f9d0c48fadbe"
      },
      "outputs": [
        {
          "data": {
            "text/plain": [
              "array([[ 1,  2,  3,  4,  5],\n",
              "       [ 4,  5,  6,  7,  8],\n",
              "       [12, 34, 56, 67, 85],\n",
              "       [21, 56, 67, 32, 53]])"
            ]
          },
          "execution_count": 50,
          "metadata": {},
          "output_type": "execute_result"
        }
      ],
      "source": [
        "arr"
      ]
    },
    {
      "cell_type": "code",
      "execution_count": null,
      "metadata": {
        "id": "_lfYCSAatL9_",
        "outputId": "3254d75b-3691-473c-c6ea-29de75da0737"
      },
      "outputs": [
        {
          "data": {
            "text/plain": [
              "2"
            ]
          },
          "execution_count": 51,
          "metadata": {},
          "output_type": "execute_result"
        }
      ],
      "source": [
        "arr.ndim"
      ]
    },
    {
      "cell_type": "code",
      "execution_count": null,
      "metadata": {
        "id": "-hFJjh5rtL9_",
        "outputId": "39330c9f-087b-4cdc-a763-b072ac84f544"
      },
      "outputs": [
        {
          "data": {
            "text/plain": [
              "array([[ 4,  5,  6,  7,  8],\n",
              "       [21, 56, 67, 32, 53]])"
            ]
          },
          "execution_count": 53,
          "metadata": {},
          "output_type": "execute_result"
        }
      ],
      "source": [
        "arr[1:4:2]"
      ]
    },
    {
      "cell_type": "code",
      "execution_count": null,
      "metadata": {
        "id": "PAFxnmXytL9_",
        "outputId": "8f6e095c-3d4f-4dac-eae1-f89c2239a707"
      },
      "outputs": [
        {
          "data": {
            "text/plain": [
              "array([[ 6,  8],\n",
              "       [67, 53]])"
            ]
          },
          "execution_count": 56,
          "metadata": {},
          "output_type": "execute_result"
        }
      ],
      "source": [
        "arr[1:4:2,2:5:2]"
      ]
    },
    {
      "cell_type": "code",
      "execution_count": null,
      "metadata": {
        "id": "SC40hzQrtL-A",
        "outputId": "707a5155-12d3-4012-ef45-6c424d030460"
      },
      "outputs": [
        {
          "data": {
            "text/plain": [
              "array([[ 1,  2,  3,  4,  5],\n",
              "       [ 4,  5,  6,  7,  8],\n",
              "       [12, 34, 56, 67, 85],\n",
              "       [21, 56, 67, 32, 53]])"
            ]
          },
          "execution_count": 57,
          "metadata": {},
          "output_type": "execute_result"
        }
      ],
      "source": [
        "arr"
      ]
    },
    {
      "cell_type": "code",
      "execution_count": null,
      "metadata": {
        "id": "DdSkEGIJtL-A",
        "outputId": "cba3bfeb-ec7b-494f-fc2f-57fb4538d396"
      },
      "outputs": [
        {
          "data": {
            "text/plain": [
              "array([[21, 56, 67, 32, 53],\n",
              "       [12, 34, 56, 67, 85],\n",
              "       [ 4,  5,  6,  7,  8],\n",
              "       [ 1,  2,  3,  4,  5]])"
            ]
          },
          "execution_count": 61,
          "metadata": {},
          "output_type": "execute_result"
        }
      ],
      "source": [
        "arr[-1::-1]"
      ]
    },
    {
      "cell_type": "code",
      "execution_count": null,
      "metadata": {
        "id": "DRxszlgatL-A",
        "outputId": "c58af486-d29b-496b-9765-232bd54da18f"
      },
      "outputs": [
        {
          "data": {
            "text/plain": [
              "array([[ 5,  4,  3,  2,  1],\n",
              "       [ 8,  7,  6,  5,  4],\n",
              "       [85, 67, 56, 34, 12],\n",
              "       [53, 32, 67, 56, 21]])"
            ]
          },
          "execution_count": 62,
          "metadata": {},
          "output_type": "execute_result"
        }
      ],
      "source": [
        "arr[:,-1::-1]"
      ]
    },
    {
      "cell_type": "code",
      "execution_count": null,
      "metadata": {
        "id": "wCZNZTO_tL-B"
      },
      "outputs": [],
      "source": [
        "# 3d array \n",
        "ar = np.array([[[1,2,3],[2,3,4]],[[34,45,56],[34,78,23]],[[23,45,67],[56,67,45]]])\n"
      ]
    },
    {
      "cell_type": "code",
      "execution_count": null,
      "metadata": {
        "id": "2HLYc22AtL-B",
        "outputId": "93fe9e6e-00b3-4539-95e5-bc6b118389b3"
      },
      "outputs": [
        {
          "data": {
            "text/plain": [
              "array([[[ 1,  2,  3],\n",
              "        [ 2,  3,  4]],\n",
              "\n",
              "       [[34, 45, 56],\n",
              "        [34, 78, 23]],\n",
              "\n",
              "       [[23, 45, 67],\n",
              "        [56, 67, 45]]])"
            ]
          },
          "execution_count": 64,
          "metadata": {},
          "output_type": "execute_result"
        }
      ],
      "source": [
        "ar"
      ]
    },
    {
      "cell_type": "code",
      "execution_count": null,
      "metadata": {
        "id": "40o3CA8mtL-B",
        "outputId": "1cfd1ff2-2bba-4bd2-e525-4b239658425b"
      },
      "outputs": [
        {
          "data": {
            "text/plain": [
              "array([[[34, 45, 56],\n",
              "        [34, 78, 23]],\n",
              "\n",
              "       [[23, 45, 67],\n",
              "        [56, 67, 45]]])"
            ]
          },
          "execution_count": 65,
          "metadata": {},
          "output_type": "execute_result"
        }
      ],
      "source": [
        "ar[1:3]"
      ]
    },
    {
      "cell_type": "code",
      "execution_count": null,
      "metadata": {
        "id": "dr3reRuktL-B",
        "outputId": "0c240f52-4cab-4bd6-b9be-e7941be7af78"
      },
      "outputs": [
        {
          "data": {
            "text/plain": [
              "array([[[34, 78, 23]],\n",
              "\n",
              "       [[56, 67, 45]]])"
            ]
          },
          "execution_count": 66,
          "metadata": {},
          "output_type": "execute_result"
        }
      ],
      "source": [
        "ar[1:3,1:]"
      ]
    },
    {
      "cell_type": "code",
      "execution_count": null,
      "metadata": {
        "id": "fJ-RJTQ4tL-C",
        "outputId": "ba195325-d0d0-4247-bc4f-4c37ae1a8326"
      },
      "outputs": [
        {
          "data": {
            "text/plain": [
              "array([[[78, 23]],\n",
              "\n",
              "       [[67, 45]]])"
            ]
          },
          "execution_count": 67,
          "metadata": {},
          "output_type": "execute_result"
        }
      ],
      "source": [
        "ar[1:3,1:,1:3]"
      ]
    },
    {
      "cell_type": "code",
      "execution_count": null,
      "metadata": {
        "id": "cFXdgPQhtL-C"
      },
      "outputs": [],
      "source": [
        "# high D arrays\n",
        "arr  = np.array([1,2,3,4,5,6],ndmin = 5)"
      ]
    },
    {
      "cell_type": "code",
      "execution_count": null,
      "metadata": {
        "id": "_F6BIjuwtL-C",
        "outputId": "29af5607-f4da-4225-f00c-2272648a9e50"
      },
      "outputs": [
        {
          "data": {
            "text/plain": [
              "array([[[[[1, 2, 3, 4, 5, 6]]]]])"
            ]
          },
          "execution_count": 69,
          "metadata": {},
          "output_type": "execute_result"
        }
      ],
      "source": [
        "arr"
      ]
    },
    {
      "cell_type": "code",
      "execution_count": null,
      "metadata": {
        "id": "MrCX-zPUtL-C",
        "outputId": "70dda734-0a6b-4407-b0a9-bf9cfd9232e9"
      },
      "outputs": [
        {
          "data": {
            "text/plain": [
              "5"
            ]
          },
          "execution_count": 70,
          "metadata": {},
          "output_type": "execute_result"
        }
      ],
      "source": [
        "arr.ndim"
      ]
    },
    {
      "cell_type": "code",
      "execution_count": null,
      "metadata": {
        "id": "qOK8dWlStL-D",
        "outputId": "84f4b9ae-9ff4-4631-f291-5e5cd8ae88e6"
      },
      "outputs": [
        {
          "data": {
            "text/plain": [
              "array([[[[[2, 3, 4]]]]])"
            ]
          },
          "execution_count": 71,
          "metadata": {},
          "output_type": "execute_result"
        }
      ],
      "source": [
        "arr[:,:,:,:,1:4]"
      ]
    },
    {
      "cell_type": "code",
      "execution_count": null,
      "metadata": {
        "id": "C63WREFctL-D"
      },
      "outputs": [],
      "source": [
        "perm = np.array([[13,23,32,43,54],[43,55,60,7,8],[12,34,45,77,87],[2,55,39,82,49]])"
      ]
    },
    {
      "cell_type": "code",
      "execution_count": null,
      "metadata": {
        "id": "-PveTPuYtL-D",
        "outputId": "52b42e42-eac2-47b1-8e79-1227d79925d2"
      },
      "outputs": [
        {
          "data": {
            "text/plain": [
              "array([[13, 23, 32, 43, 54],\n",
              "       [43, 55, 60,  7,  8],\n",
              "       [12, 34, 45, 77, 87],\n",
              "       [ 2, 55, 39, 82, 49]])"
            ]
          },
          "execution_count": 73,
          "metadata": {},
          "output_type": "execute_result"
        }
      ],
      "source": [
        "perm"
      ]
    },
    {
      "cell_type": "code",
      "execution_count": null,
      "metadata": {
        "id": "-GERl2pAtL-D"
      },
      "outputs": [],
      "source": [
        "import seaborn as sns\n",
        "import matplotlib.pyplot as plt"
      ]
    },
    {
      "cell_type": "code",
      "execution_count": null,
      "metadata": {
        "id": "tdYCagXOtL-D",
        "outputId": "468c4c5a-259e-49be-e3ad-e9c5272e1555"
      },
      "outputs": [
        {
          "data": {
            "text/plain": [
              "<AxesSubplot:title={'center':'Reservoir Pemeability Grids'}>"
            ]
          },
          "execution_count": 82,
          "metadata": {},
          "output_type": "execute_result"
        },
        {
          "data": {
            "image/png": "[encoded data removed]",
            "text/plain": [
              "<Figure size 720x576 with 2 Axes>"
            ]
          },
          "metadata": {
            "needs_background": "light"
          },
          "output_type": "display_data"
        }
      ],
      "source": [
        "plt.figure(figsize = (10,8))\n",
        "plt.title('Reservoir Pemeability Grids')\n",
        "sns.heatmap(perm)"
      ]
    },
    {
      "cell_type": "code",
      "execution_count": null,
      "metadata": {
        "id": "Gnju-lSItL-E",
        "outputId": "005ed933-d0ba-474d-ffcf-5f2b3e68260a"
      },
      "outputs": [
        {
          "data": {
            "text/plain": [
              "array([[13, 23, 32, 43, 54],\n",
              "       [43, 55, 60,  7,  8],\n",
              "       [12, 34, 45, 77, 87],\n",
              "       [ 2, 55, 39, 82, 49]])"
            ]
          },
          "execution_count": 77,
          "metadata": {},
          "output_type": "execute_result"
        }
      ],
      "source": [
        "perm"
      ]
    },
    {
      "cell_type": "code",
      "execution_count": null,
      "metadata": {
        "id": "ELKYF4HvtL-E"
      },
      "outputs": [],
      "source": [
        "perm1 = perm[1:3,2:4]"
      ]
    },
    {
      "cell_type": "code",
      "execution_count": null,
      "metadata": {
        "id": "SabCp_lmtL-E",
        "outputId": "80ec25b1-fe2a-4caa-991a-c52ba7fe5fb1"
      },
      "outputs": [
        {
          "data": {
            "text/plain": [
              "<AxesSubplot:title={'center':'Reservoir Pemeability Grids (Sliced)'}>"
            ]
          },
          "execution_count": 84,
          "metadata": {},
          "output_type": "execute_result"
        },
        {
          "data": {
            "image/png": "[encoded data removed]",
            "text/plain": [
              "<Figure size 576x432 with 2 Axes>"
            ]
          },
          "metadata": {
            "needs_background": "light"
          },
          "output_type": "display_data"
        }
      ],
      "source": [
        "plt.figure(figsize = (8,6))\n",
        "plt.title('Reservoir Pemeability Grids (Sliced)')\n",
        "sns.heatmap(perm1)"
      ]
    },
    {
      "cell_type": "markdown",
      "metadata": {
        "id": "8gx4_45YtL-E"
      },
      "source": [
        "# Reshape"
      ]
    },
    {
      "cell_type": "markdown",
      "metadata": {
        "id": "kc1Q93eQtL-F"
      },
      "source": [
        "### Shape: The shape of an array is the number of elements in each dimension."
      ]
    },
    {
      "cell_type": "code",
      "execution_count": null,
      "metadata": {
        "id": "8BUP2h2GtL-F"
      },
      "outputs": [],
      "source": [
        "import numpy as np"
      ]
    },
    {
      "cell_type": "code",
      "execution_count": null,
      "metadata": {
        "id": "-YkkcbbVtL-F"
      },
      "outputs": [],
      "source": [
        "arr = np.array([[1, 2, 3, 4], [5, 6, 7, 8]])"
      ]
    },
    {
      "cell_type": "code",
      "execution_count": null,
      "metadata": {
        "id": "-QAK0k_wtL-F",
        "outputId": "9b5af122-4d00-4236-d437-caec21c51fec"
      },
      "outputs": [
        {
          "data": {
            "text/plain": [
              "(2, 4)"
            ]
          },
          "execution_count": 56,
          "metadata": {},
          "output_type": "execute_result"
        }
      ],
      "source": [
        "arr.shape"
      ]
    },
    {
      "cell_type": "code",
      "execution_count": null,
      "metadata": {
        "id": "RCqrzn47tL-G",
        "outputId": "539c900d-6674-44bf-fdbd-1c655be0b8cb"
      },
      "outputs": [
        {
          "data": {
            "text/plain": [
              "array([[1, 2, 3, 4],\n",
              "       [5, 6, 7, 8]])"
            ]
          },
          "execution_count": 57,
          "metadata": {},
          "output_type": "execute_result"
        }
      ],
      "source": [
        "arr"
      ]
    },
    {
      "cell_type": "code",
      "execution_count": null,
      "metadata": {
        "id": "TWwotHWMtL-G"
      },
      "outputs": [],
      "source": [
        "arr = np.array([[[1,2,3,4],[4,5,6,5]],[[3,4,5,8],[5,6,7,9]],[[23,34,56,78],[45,67,78,56]]])"
      ]
    },
    {
      "cell_type": "code",
      "execution_count": null,
      "metadata": {
        "id": "Uayt9pbLtL-G",
        "outputId": "e7757651-80d5-4b34-e66a-56602990ceb9"
      },
      "outputs": [
        {
          "data": {
            "text/plain": [
              "array([[[ 1,  2,  3,  4],\n",
              "        [ 4,  5,  6,  5]],\n",
              "\n",
              "       [[ 3,  4,  5,  8],\n",
              "        [ 5,  6,  7,  9]],\n",
              "\n",
              "       [[23, 34, 56, 78],\n",
              "        [45, 67, 78, 56]]])"
            ]
          },
          "execution_count": 59,
          "metadata": {},
          "output_type": "execute_result"
        }
      ],
      "source": [
        "arr"
      ]
    },
    {
      "cell_type": "code",
      "execution_count": null,
      "metadata": {
        "id": "q7jRqLmAtL-G",
        "outputId": "1f70eac0-f089-4f17-faf8-c45bec702d52"
      },
      "outputs": [
        {
          "data": {
            "text/plain": [
              "(3, 2, 4)"
            ]
          },
          "execution_count": 60,
          "metadata": {},
          "output_type": "execute_result"
        }
      ],
      "source": [
        "arr.shape"
      ]
    },
    {
      "cell_type": "code",
      "execution_count": null,
      "metadata": {
        "id": "1pSkiHFStL-H"
      },
      "outputs": [],
      "source": [
        "arr = np.array([1, 2, 3, 4], ndmin=5)\n"
      ]
    },
    {
      "cell_type": "code",
      "execution_count": null,
      "metadata": {
        "id": "ExElQ3ENtL-H",
        "outputId": "b51d7da5-32db-4dfd-df3f-6207e6fde15a"
      },
      "outputs": [
        {
          "data": {
            "text/plain": [
              "(1, 1, 1, 1, 4)"
            ]
          },
          "execution_count": 62,
          "metadata": {},
          "output_type": "execute_result"
        }
      ],
      "source": [
        "arr.shape"
      ]
    },
    {
      "cell_type": "markdown",
      "metadata": {
        "id": "PPByk4l8tL-H"
      },
      "source": [
        "## Reshape: Changing the shape of array\n",
        "- By reshaping we can add or remove dimensions or change number of elements in each dimension."
      ]
    },
    {
      "cell_type": "code",
      "execution_count": null,
      "metadata": {
        "id": "svSA5-fstL-H"
      },
      "outputs": [],
      "source": [
        "a = np.array([1,2,3,4,5,6,7,8,9,67,12,45,24,678,89,56,454,23,56,76,89,89,65,45])"
      ]
    },
    {
      "cell_type": "code",
      "execution_count": null,
      "metadata": {
        "id": "HiBNn1-jtL-I",
        "outputId": "be6fc744-eeaa-4bb7-8cba-7d302109100b"
      },
      "outputs": [
        {
          "data": {
            "text/plain": [
              "(24,)"
            ]
          },
          "execution_count": 64,
          "metadata": {},
          "output_type": "execute_result"
        }
      ],
      "source": [
        "a.shape"
      ]
    },
    {
      "cell_type": "code",
      "execution_count": null,
      "metadata": {
        "id": "_sR4cewLtL-I",
        "outputId": "7e729c0e-a233-4f73-f04c-5e76dbca2bf1"
      },
      "outputs": [
        {
          "data": {
            "text/plain": [
              "1"
            ]
          },
          "execution_count": 65,
          "metadata": {},
          "output_type": "execute_result"
        }
      ],
      "source": [
        "a.ndim"
      ]
    },
    {
      "cell_type": "code",
      "execution_count": null,
      "metadata": {
        "id": "WQ2131-gtL-I",
        "outputId": "b21acae0-69b8-4b70-dc46-c89360303cfc"
      },
      "outputs": [
        {
          "data": {
            "text/plain": [
              "array([  1,   2,   3,   4,   5,   6,   7,   8,   9,  67,  12,  45,  24,\n",
              "       678,  89,  56, 454,  23,  56,  76,  89,  89,  65,  45])"
            ]
          },
          "execution_count": 66,
          "metadata": {},
          "output_type": "execute_result"
        }
      ],
      "source": [
        "a"
      ]
    },
    {
      "cell_type": "markdown",
      "metadata": {
        "id": "F8IitqkAtL-I"
      },
      "source": [
        "## Reshape from 1-D to 2-D"
      ]
    },
    {
      "cell_type": "code",
      "execution_count": null,
      "metadata": {
        "id": "jTz_yCKQtL-J"
      },
      "outputs": [],
      "source": [
        "a2d = a.reshape(6,4)"
      ]
    },
    {
      "cell_type": "code",
      "execution_count": null,
      "metadata": {
        "id": "Z5A4ctJctL-J",
        "outputId": "65f111c7-c36d-4069-984b-70fe06fb4826"
      },
      "outputs": [
        {
          "data": {
            "text/plain": [
              "array([[  1,   2,   3,   4],\n",
              "       [  5,   6,   7,   8],\n",
              "       [  9,  67,  12,  45],\n",
              "       [ 24, 678,  89,  56],\n",
              "       [454,  23,  56,  76],\n",
              "       [ 89,  89,  65,  45]])"
            ]
          },
          "execution_count": 69,
          "metadata": {},
          "output_type": "execute_result"
        }
      ],
      "source": [
        "a2d"
      ]
    },
    {
      "cell_type": "code",
      "execution_count": null,
      "metadata": {
        "scrolled": true,
        "id": "kd54NMKqtL-J",
        "outputId": "2eb390e3-5512-4a62-fe73-47f11236c465"
      },
      "outputs": [
        {
          "data": {
            "text/plain": [
              "(6, 4)"
            ]
          },
          "execution_count": 70,
          "metadata": {},
          "output_type": "execute_result"
        }
      ],
      "source": [
        "a2d.shape"
      ]
    },
    {
      "cell_type": "code",
      "execution_count": null,
      "metadata": {
        "id": "lRIuhB5ItL-J",
        "outputId": "c1e0f864-d697-44d8-a91e-47363309242d"
      },
      "outputs": [
        {
          "data": {
            "text/plain": [
              "2"
            ]
          },
          "execution_count": 72,
          "metadata": {},
          "output_type": "execute_result"
        }
      ],
      "source": [
        "a2d.ndim"
      ]
    },
    {
      "cell_type": "markdown",
      "metadata": {
        "id": "mQC_Mn8OtL-J"
      },
      "source": [
        "## Reshape into 3-D\n",
        "### 3 d array reshape((a,b,c)) = a is number of batches, b is number of rows, c is number of columns "
      ]
    },
    {
      "cell_type": "code",
      "execution_count": null,
      "metadata": {
        "id": "hWRZa9VYtL-K"
      },
      "outputs": [],
      "source": [
        "a3da = a.reshape(4,3,2)"
      ]
    },
    {
      "cell_type": "code",
      "execution_count": null,
      "metadata": {
        "id": "zlgS7xvEtL-K",
        "outputId": "84888d9e-e0db-495f-b6cb-2329f58575b9"
      },
      "outputs": [
        {
          "data": {
            "text/plain": [
              "array([[[  1,   2],\n",
              "        [  3,   4],\n",
              "        [  5,   6]],\n",
              "\n",
              "       [[  7,   8],\n",
              "        [  9,  67],\n",
              "        [ 12,  45]],\n",
              "\n",
              "       [[ 24, 678],\n",
              "        [ 89,  56],\n",
              "        [454,  23]],\n",
              "\n",
              "       [[ 56,  76],\n",
              "        [ 89,  89],\n",
              "        [ 65,  45]]])"
            ]
          },
          "execution_count": 75,
          "metadata": {},
          "output_type": "execute_result"
        }
      ],
      "source": [
        "a3da"
      ]
    },
    {
      "cell_type": "code",
      "execution_count": null,
      "metadata": {
        "id": "ZNjy6GhStL-K",
        "outputId": "b4134efa-506e-4eb9-da77-1fb8aa045229"
      },
      "outputs": [
        {
          "data": {
            "text/plain": [
              "(4, 3, 2)"
            ]
          },
          "execution_count": 76,
          "metadata": {},
          "output_type": "execute_result"
        }
      ],
      "source": [
        "a3da.shape"
      ]
    },
    {
      "cell_type": "code",
      "execution_count": null,
      "metadata": {
        "id": "DMAnLMRwtL-K",
        "outputId": "2f6b72fd-e6b2-41bc-d69d-fbde152f773d"
      },
      "outputs": [
        {
          "data": {
            "text/plain": [
              "3"
            ]
          },
          "execution_count": 77,
          "metadata": {},
          "output_type": "execute_result"
        }
      ],
      "source": [
        "a3da.ndim"
      ]
    },
    {
      "cell_type": "code",
      "execution_count": null,
      "metadata": {
        "id": "ZfwxpjzgtL-L"
      },
      "outputs": [],
      "source": [
        "a3db = a2d.reshape(4,3,2)"
      ]
    },
    {
      "cell_type": "code",
      "execution_count": null,
      "metadata": {
        "scrolled": true,
        "id": "YZ6mpQZ0tL-L",
        "outputId": "d8a1909c-5100-40e0-ca6e-4d18d81c5c4c"
      },
      "outputs": [
        {
          "data": {
            "text/plain": [
              "array([[[  1,   2],\n",
              "        [  3,   4],\n",
              "        [  5,   6]],\n",
              "\n",
              "       [[  7,   8],\n",
              "        [  9,  67],\n",
              "        [ 12,  45]],\n",
              "\n",
              "       [[ 24, 678],\n",
              "        [ 89,  56],\n",
              "        [454,  23]],\n",
              "\n",
              "       [[ 56,  76],\n",
              "        [ 89,  89],\n",
              "        [ 65,  45]]])"
            ]
          },
          "execution_count": 79,
          "metadata": {},
          "output_type": "execute_result"
        }
      ],
      "source": [
        "a3db"
      ]
    },
    {
      "cell_type": "markdown",
      "metadata": {
        "id": "FaAlYeGWtL-L"
      },
      "source": [
        "## 4 D"
      ]
    },
    {
      "cell_type": "code",
      "execution_count": null,
      "metadata": {
        "id": "9FpCxYoNtL-L",
        "outputId": "8faef302-573e-4166-e85b-4fd672d3fd65"
      },
      "outputs": [
        {
          "data": {
            "text/plain": [
              "array([[[[  1,   2],\n",
              "         [  3,   4],\n",
              "         [  5,   6]],\n",
              "\n",
              "        [[  7,   8],\n",
              "         [  9,  67],\n",
              "         [ 12,  45]]],\n",
              "\n",
              "\n",
              "       [[[ 24, 678],\n",
              "         [ 89,  56],\n",
              "         [454,  23]],\n",
              "\n",
              "        [[ 56,  76],\n",
              "         [ 89,  89],\n",
              "         [ 65,  45]]]])"
            ]
          },
          "execution_count": 80,
          "metadata": {},
          "output_type": "execute_result"
        }
      ],
      "source": [
        "a.reshape(2,2,3,2)"
      ]
    },
    {
      "cell_type": "markdown",
      "metadata": {
        "id": "RzW5jtSktL-M"
      },
      "source": [
        "## High dimensions"
      ]
    },
    {
      "cell_type": "code",
      "execution_count": null,
      "metadata": {
        "id": "ZP8y55MItL-M",
        "outputId": "deac7e86-869a-4f54-bf35-b852bde0f104"
      },
      "outputs": [
        {
          "data": {
            "text/plain": [
              "array([[[[[  1,   2],\n",
              "          [  3,   4],\n",
              "          [  5,   6]],\n",
              "\n",
              "         [[  7,   8],\n",
              "          [  9,  67],\n",
              "          [ 12,  45]]],\n",
              "\n",
              "\n",
              "        [[[ 24, 678],\n",
              "          [ 89,  56],\n",
              "          [454,  23]],\n",
              "\n",
              "         [[ 56,  76],\n",
              "          [ 89,  89],\n",
              "          [ 65,  45]]]]])"
            ]
          },
          "execution_count": 81,
          "metadata": {},
          "output_type": "execute_result"
        }
      ],
      "source": [
        "a.reshape(1,2,2,3,2)"
      ]
    },
    {
      "cell_type": "markdown",
      "metadata": {
        "id": "O_-UVLDgtL-M"
      },
      "source": [
        "# Can we reshape into any shape?"
      ]
    },
    {
      "cell_type": "code",
      "execution_count": null,
      "metadata": {
        "scrolled": true,
        "id": "UmrPke4-tL-M",
        "outputId": "903229a9-6e48-4d3a-b9aa-b9ca13b288e7"
      },
      "outputs": [
        {
          "ename": "ValueError",
          "evalue": "cannot reshape array of size 24 into shape (7,3)",
          "output_type": "error",
          "traceback": [
            "\u001b[1;31m---------------------------------------------------------------------------\u001b[0m",
            "\u001b[1;31mValueError\u001b[0m                                Traceback (most recent call last)",
            "\u001b[1;32m<ipython-input-82-204d275d7ea9>\u001b[0m in \u001b[0;36m<module>\u001b[1;34m\u001b[0m\n\u001b[1;32m----> 1\u001b[1;33m \u001b[0ma\u001b[0m\u001b[1;33m.\u001b[0m\u001b[0mreshape\u001b[0m\u001b[1;33m(\u001b[0m\u001b[1;36m7\u001b[0m\u001b[1;33m,\u001b[0m\u001b[1;36m3\u001b[0m\u001b[1;33m)\u001b[0m\u001b[1;33m\u001b[0m\u001b[1;33m\u001b[0m\u001b[0m\n\u001b[0m",
            "\u001b[1;31mValueError\u001b[0m: cannot reshape array of size 24 into shape (7,3)"
          ]
        }
      ],
      "source": [
        "a.reshape(7,3)"
      ]
    },
    {
      "cell_type": "markdown",
      "metadata": {
        "id": "lKwhgvm1tL-M"
      },
      "source": [
        "# Unknown dimension:\n",
        "- You are allowed to have one \"unknown\" dimension.\n",
        "\n",
        "- Meaning that you do not have to specify an exact number for one of the dimensions in the reshape method.\n",
        "\n",
        "- Pass -1 as the value, and NumPy will calculate this number for you."
      ]
    },
    {
      "cell_type": "code",
      "execution_count": null,
      "metadata": {
        "id": "2UNsHjpUtL-N",
        "outputId": "beba19e0-e87a-4633-b867-f8bc13f68bce"
      },
      "outputs": [
        {
          "data": {
            "text/plain": [
              "array([  1,   2,   3,   4,   5,   6,   7,   8,   9,  67,  12,  45,  24,\n",
              "       678,  89,  56, 454,  23,  56,  76,  89,  89,  65,  45])"
            ]
          },
          "execution_count": 83,
          "metadata": {},
          "output_type": "execute_result"
        }
      ],
      "source": [
        "a"
      ]
    },
    {
      "cell_type": "code",
      "execution_count": null,
      "metadata": {
        "id": "zrptoJEWtL-N",
        "outputId": "da9da637-60b2-43d2-8eb7-7012ded1ed02"
      },
      "outputs": [
        {
          "data": {
            "text/plain": [
              "(24,)"
            ]
          },
          "execution_count": 84,
          "metadata": {},
          "output_type": "execute_result"
        }
      ],
      "source": [
        "a.shape"
      ]
    },
    {
      "cell_type": "code",
      "execution_count": null,
      "metadata": {
        "id": "GEYuJ14ItL-N",
        "outputId": "1c8fee16-d14a-4b87-88f8-df2b0fb9ecb2"
      },
      "outputs": [
        {
          "data": {
            "text/plain": [
              "array([[  1,   2,   3,   4,   5,   6,   7,   8,   9,  67,  12,  45,  24,\n",
              "        678,  89,  56, 454,  23,  56,  76,  89,  89,  65,  45]])"
            ]
          },
          "execution_count": 85,
          "metadata": {},
          "output_type": "execute_result"
        }
      ],
      "source": [
        "a.reshape(1,24)"
      ]
    },
    {
      "cell_type": "code",
      "execution_count": null,
      "metadata": {
        "id": "djdFU3pStL-N",
        "outputId": "bba93d04-b281-40e0-c17b-1fb6166001b3"
      },
      "outputs": [
        {
          "data": {
            "text/plain": [
              "array([[  1,   2,   3,   4,   5,   6,   7,   8,   9,  67,  12,  45,  24,\n",
              "        678,  89,  56, 454,  23,  56,  76,  89,  89,  65,  45]])"
            ]
          },
          "execution_count": 86,
          "metadata": {},
          "output_type": "execute_result"
        }
      ],
      "source": [
        "a.reshape(1,-1)"
      ]
    },
    {
      "cell_type": "code",
      "execution_count": null,
      "metadata": {
        "id": "ntUvy5vItL-O",
        "outputId": "94329f46-c8d3-4e18-9c7b-d12813c1462f"
      },
      "outputs": [
        {
          "data": {
            "text/plain": [
              "array([[  1],\n",
              "       [  2],\n",
              "       [  3],\n",
              "       [  4],\n",
              "       [  5],\n",
              "       [  6],\n",
              "       [  7],\n",
              "       [  8],\n",
              "       [  9],\n",
              "       [ 67],\n",
              "       [ 12],\n",
              "       [ 45],\n",
              "       [ 24],\n",
              "       [678],\n",
              "       [ 89],\n",
              "       [ 56],\n",
              "       [454],\n",
              "       [ 23],\n",
              "       [ 56],\n",
              "       [ 76],\n",
              "       [ 89],\n",
              "       [ 89],\n",
              "       [ 65],\n",
              "       [ 45]])"
            ]
          },
          "execution_count": 87,
          "metadata": {},
          "output_type": "execute_result"
        }
      ],
      "source": [
        "a.reshape(-1,1)"
      ]
    },
    {
      "cell_type": "code",
      "execution_count": null,
      "metadata": {
        "id": "5sMS8sx1tL-O",
        "outputId": "8f5fec64-8b95-44d9-e084-31d469957ac1"
      },
      "outputs": [
        {
          "data": {
            "text/plain": [
              "array([[  1,   2,   3,   4,   5,   6,   7,   8],\n",
              "       [  9,  67,  12,  45,  24, 678,  89,  56],\n",
              "       [454,  23,  56,  76,  89,  89,  65,  45]])"
            ]
          },
          "execution_count": 88,
          "metadata": {},
          "output_type": "execute_result"
        }
      ],
      "source": [
        "a.reshape(3,-1)"
      ]
    },
    {
      "cell_type": "code",
      "execution_count": null,
      "metadata": {
        "id": "8Td0ZRiXtL-O",
        "outputId": "87464ad9-ad21-4771-81f8-bf2a9faeafe5"
      },
      "outputs": [
        {
          "ename": "ValueError",
          "evalue": "cannot reshape array of size 24 into shape (5,newaxis)",
          "output_type": "error",
          "traceback": [
            "\u001b[1;31m---------------------------------------------------------------------------\u001b[0m",
            "\u001b[1;31mValueError\u001b[0m                                Traceback (most recent call last)",
            "\u001b[1;32m<ipython-input-89-f9e175120d88>\u001b[0m in \u001b[0;36m<module>\u001b[1;34m\u001b[0m\n\u001b[1;32m----> 1\u001b[1;33m \u001b[0ma\u001b[0m\u001b[1;33m.\u001b[0m\u001b[0mreshape\u001b[0m\u001b[1;33m(\u001b[0m\u001b[1;36m5\u001b[0m\u001b[1;33m,\u001b[0m\u001b[1;33m-\u001b[0m\u001b[1;36m1\u001b[0m\u001b[1;33m)\u001b[0m\u001b[1;33m\u001b[0m\u001b[1;33m\u001b[0m\u001b[0m\n\u001b[0m",
            "\u001b[1;31mValueError\u001b[0m: cannot reshape array of size 24 into shape (5,newaxis)"
          ]
        }
      ],
      "source": [
        "a.reshape(5,-1)"
      ]
    },
    {
      "cell_type": "code",
      "execution_count": null,
      "metadata": {
        "id": "PfAO8_VutL-O",
        "outputId": "e60bca0a-1686-49d1-dd6f-c48bef1a6dd6"
      },
      "outputs": [
        {
          "data": {
            "text/plain": [
              "array([[[  1,   2,   3],\n",
              "        [  4,   5,   6]],\n",
              "\n",
              "       [[  7,   8,   9],\n",
              "        [ 67,  12,  45]],\n",
              "\n",
              "       [[ 24, 678,  89],\n",
              "        [ 56, 454,  23]],\n",
              "\n",
              "       [[ 56,  76,  89],\n",
              "        [ 89,  65,  45]]])"
            ]
          },
          "execution_count": 90,
          "metadata": {},
          "output_type": "execute_result"
        }
      ],
      "source": [
        "a.reshape(-1,2,3)"
      ]
    },
    {
      "cell_type": "code",
      "execution_count": null,
      "metadata": {
        "id": "6UGpRWTDtL-P",
        "outputId": "d1260092-30e0-4472-b189-8e9c49a5e481"
      },
      "outputs": [
        {
          "data": {
            "text/plain": [
              "array([[[  1,   2,   3,   4],\n",
              "        [  5,   6,   7,   8],\n",
              "        [  9,  67,  12,  45]],\n",
              "\n",
              "       [[ 24, 678,  89,  56],\n",
              "        [454,  23,  56,  76],\n",
              "        [ 89,  89,  65,  45]]])"
            ]
          },
          "execution_count": 93,
          "metadata": {},
          "output_type": "execute_result"
        }
      ],
      "source": [
        "a.reshape(2,-1,4)"
      ]
    },
    {
      "cell_type": "code",
      "execution_count": null,
      "metadata": {
        "id": "og5CEC71tL-P",
        "outputId": "a09e0a60-2cbc-40cd-96fa-26f0b016163b"
      },
      "outputs": [
        {
          "data": {
            "text/plain": [
              "array([[[  1,   2,   3,   4],\n",
              "        [  5,   6,   7,   8],\n",
              "        [  9,  67,  12,  45]],\n",
              "\n",
              "       [[ 24, 678,  89,  56],\n",
              "        [454,  23,  56,  76],\n",
              "        [ 89,  89,  65,  45]]])"
            ]
          },
          "execution_count": 91,
          "metadata": {},
          "output_type": "execute_result"
        }
      ],
      "source": [
        "a.reshape(2,-1,4)"
      ]
    },
    {
      "cell_type": "code",
      "execution_count": null,
      "metadata": {
        "id": "hFuxnc-LtL-P",
        "outputId": "7a6e94de-0e6e-4b32-ca7f-bdb99d683240"
      },
      "outputs": [
        {
          "data": {
            "text/plain": [
              "array([[[[  1,   2],\n",
              "         [  3,   4]],\n",
              "\n",
              "        [[  5,   6],\n",
              "         [  7,   8]]],\n",
              "\n",
              "\n",
              "       [[[  9,  67],\n",
              "         [ 12,  45]],\n",
              "\n",
              "        [[ 24, 678],\n",
              "         [ 89,  56]]],\n",
              "\n",
              "\n",
              "       [[[454,  23],\n",
              "         [ 56,  76]],\n",
              "\n",
              "        [[ 89,  89],\n",
              "         [ 65,  45]]]])"
            ]
          },
          "execution_count": 92,
          "metadata": {},
          "output_type": "execute_result"
        }
      ],
      "source": [
        "a.reshape(-1,2,2,2) # 3 3d matrices of 2 2*2 2d matrices"
      ]
    },
    {
      "cell_type": "markdown",
      "metadata": {
        "id": "ls2MCHgztL-P"
      },
      "source": [
        "# Random Number Generation"
      ]
    },
    {
      "cell_type": "code",
      "execution_count": null,
      "metadata": {
        "id": "iTjPu-HZtL-P"
      },
      "outputs": [],
      "source": [
        "import numpy as np "
      ]
    },
    {
      "cell_type": "markdown",
      "metadata": {
        "id": "DQ3OdKK5tL-Q"
      },
      "source": [
        "## Generating totally random numbers: \n",
        "- Doesn't follow any distributions"
      ]
    },
    {
      "cell_type": "markdown",
      "metadata": {
        "id": "8ITAxVN2tL-Q"
      },
      "source": [
        "### Randint : Generating Random Integer\n",
        "- provide the maximum number"
      ]
    },
    {
      "cell_type": "code",
      "execution_count": null,
      "metadata": {
        "id": "EWS9eWd0tL-Q",
        "outputId": "167209f1-0e7a-4284-fb21-de24940fc0ee"
      },
      "outputs": [
        {
          "data": {
            "text/plain": [
              "82"
            ]
          },
          "execution_count": 68,
          "metadata": {},
          "output_type": "execute_result"
        }
      ],
      "source": [
        "np.random.randint(50,100)"
      ]
    },
    {
      "cell_type": "code",
      "execution_count": null,
      "metadata": {
        "id": "TxMoVSAhtL-Q"
      },
      "outputs": [],
      "source": [
        "a = np.random.randint(250,350,(4,3))"
      ]
    },
    {
      "cell_type": "code",
      "execution_count": null,
      "metadata": {
        "scrolled": true,
        "id": "roVZLhmDtL-R",
        "outputId": "ad574086-ed8c-470d-b74e-d0e63e08248a"
      },
      "outputs": [
        {
          "data": {
            "text/plain": [
              "array([[301, 331, 330],\n",
              "       [270, 251, 282],\n",
              "       [347, 348, 311],\n",
              "       [320, 281, 322]])"
            ]
          },
          "execution_count": 70,
          "metadata": {},
          "output_type": "execute_result"
        }
      ],
      "source": [
        "a"
      ]
    },
    {
      "cell_type": "code",
      "execution_count": null,
      "metadata": {
        "id": "dJ7bcApntL-R"
      },
      "outputs": [],
      "source": [
        "a = np.random.randint(250,350,(3,4,3))"
      ]
    },
    {
      "cell_type": "code",
      "execution_count": null,
      "metadata": {
        "scrolled": true,
        "id": "esjBqi2xtL-R",
        "outputId": "d79d427d-d2c5-4f51-dde6-1a5cbd13ece2"
      },
      "outputs": [
        {
          "data": {
            "text/plain": [
              "array([[[258, 316, 339],\n",
              "        [327, 289, 289],\n",
              "        [346, 322, 264],\n",
              "        [279, 337, 302]],\n",
              "\n",
              "       [[282, 255, 301],\n",
              "        [291, 303, 261],\n",
              "        [325, 331, 274],\n",
              "        [290, 308, 257]],\n",
              "\n",
              "       [[298, 347, 296],\n",
              "        [288, 345, 287],\n",
              "        [289, 253, 267],\n",
              "        [266, 349, 321]]])"
            ]
          },
          "execution_count": 72,
          "metadata": {},
          "output_type": "execute_result"
        }
      ],
      "source": [
        "a"
      ]
    },
    {
      "cell_type": "markdown",
      "metadata": {
        "id": "6GT1GO9jtL-R"
      },
      "source": [
        "### rand: Generating Random FLoat between 0 and 1\n",
        "- provide size"
      ]
    },
    {
      "cell_type": "code",
      "execution_count": null,
      "metadata": {
        "scrolled": false,
        "id": "23mDQB5jtL-R",
        "outputId": "b40704e6-298e-4083-ead3-ca3bced8c0dd"
      },
      "outputs": [
        {
          "data": {
            "text/plain": [
              "0.04495803308556945"
            ]
          },
          "execution_count": 78,
          "metadata": {},
          "output_type": "execute_result"
        }
      ],
      "source": [
        "np.random.rand()"
      ]
    },
    {
      "cell_type": "code",
      "execution_count": null,
      "metadata": {
        "id": "l4wONdDwtL-S",
        "outputId": "15f17e3c-7002-49a7-917f-69b2a576a5a3"
      },
      "outputs": [
        {
          "data": {
            "text/plain": [
              "array([0.91745212, 0.05179   , 0.45124332, 0.08779906, 0.88096472])"
            ]
          },
          "execution_count": 79,
          "metadata": {},
          "output_type": "execute_result"
        }
      ],
      "source": [
        "np.random.rand(5)"
      ]
    },
    {
      "cell_type": "code",
      "execution_count": null,
      "metadata": {
        "id": "zbT1HAXmtL-S",
        "outputId": "d7a7b6f1-1fd8-4e36-e7d7-7932113de4a4"
      },
      "outputs": [
        {
          "data": {
            "text/plain": [
              "array([[0.24505625, 0.53275297, 0.89200837, 0.6606609 ],\n",
              "       [0.9096271 , 0.40945125, 0.43978331, 0.70215638],\n",
              "       [0.34334734, 0.99955766, 0.70447148, 0.62908306],\n",
              "       [0.62625317, 0.57084911, 0.23137257, 0.50855775],\n",
              "       [0.36902139, 0.63748865, 0.7879907 , 0.72356265]])"
            ]
          },
          "execution_count": 80,
          "metadata": {},
          "output_type": "execute_result"
        }
      ],
      "source": [
        "np.random.rand(5,4)"
      ]
    },
    {
      "cell_type": "code",
      "execution_count": null,
      "metadata": {
        "id": "kj55t4zUtL-S",
        "outputId": "f77ce827-0a4e-4f72-884d-8b39f21e4ac7"
      },
      "outputs": [
        {
          "data": {
            "text/plain": [
              "array([[[0.51708141, 0.83007735],\n",
              "        [0.18725032, 0.84214536],\n",
              "        [0.35630331, 0.66427807],\n",
              "        [0.14471526, 0.8247321 ]],\n",
              "\n",
              "       [[0.10377528, 0.51178935],\n",
              "        [0.34522464, 0.80127307],\n",
              "        [0.25640794, 0.18369258],\n",
              "        [0.0860311 , 0.14657918]],\n",
              "\n",
              "       [[0.79060626, 0.46140167],\n",
              "        [0.75680173, 0.54436994],\n",
              "        [0.00151276, 0.55914158],\n",
              "        [0.37919749, 0.78899919]],\n",
              "\n",
              "       [[0.60452614, 0.51111661],\n",
              "        [0.37650948, 0.90459511],\n",
              "        [0.86573896, 0.857936  ],\n",
              "        [0.64120463, 0.94961265]],\n",
              "\n",
              "       [[0.94704099, 0.01355615],\n",
              "        [0.34783387, 0.24236538],\n",
              "        [0.84549952, 0.57491809],\n",
              "        [0.09107093, 0.84275391]]])"
            ]
          },
          "execution_count": 81,
          "metadata": {},
          "output_type": "execute_result"
        }
      ],
      "source": [
        "np.random.rand(5,4,2)"
      ]
    },
    {
      "cell_type": "code",
      "execution_count": null,
      "metadata": {
        "id": "-BUjxloutL-T"
      },
      "outputs": [],
      "source": [
        "inte = np.random.randint(200,size = (3,4))"
      ]
    },
    {
      "cell_type": "code",
      "execution_count": null,
      "metadata": {
        "id": "WEnLiP2JtL-U"
      },
      "outputs": [],
      "source": [
        "fl = np.random.rand(3,4)"
      ]
    },
    {
      "cell_type": "code",
      "execution_count": null,
      "metadata": {
        "id": "4TDRffFvtL-U",
        "outputId": "e9d927c5-b8d3-43f1-acf7-da08867155b5"
      },
      "outputs": [
        {
          "data": {
            "text/plain": [
              "array([[157.60690273, 151.39899364, 148.05197064, 191.84574639],\n",
              "       [ 25.66086926, 137.15247127, 180.23218504, 188.88654912],\n",
              "       [120.96196006, 154.03148089, 170.28029595, 113.16988418]])"
            ]
          },
          "execution_count": 84,
          "metadata": {},
          "output_type": "execute_result"
        }
      ],
      "source": [
        "inte + fl"
      ]
    },
    {
      "cell_type": "markdown",
      "metadata": {
        "id": "y5VSHJN_tL-U"
      },
      "source": [
        "### Choice:\n",
        "- generate a random value based on an array of values"
      ]
    },
    {
      "cell_type": "code",
      "execution_count": null,
      "metadata": {
        "id": "N_FgG_BOtL-U",
        "outputId": "e61c5d85-91b3-4632-ea32-bba2c4eb8a23"
      },
      "outputs": [
        {
          "data": {
            "text/plain": [
              "43"
            ]
          },
          "execution_count": 90,
          "metadata": {},
          "output_type": "execute_result"
        }
      ],
      "source": [
        "np.random.choice([43,56,76,89])"
      ]
    },
    {
      "cell_type": "code",
      "execution_count": null,
      "metadata": {
        "scrolled": true,
        "id": "1VKDiVTBtL-V",
        "outputId": "147bd2b9-7e5d-43ae-ab9e-0a2060ed6c15"
      },
      "outputs": [
        {
          "data": {
            "text/plain": [
              "array([[89, 76, 43, 43, 89],\n",
              "       [76, 76, 89, 76, 76],\n",
              "       [89, 89, 76, 56, 76]])"
            ]
          },
          "execution_count": 91,
          "metadata": {},
          "output_type": "execute_result"
        }
      ],
      "source": [
        "np.random.choice([43,56,76,89],size = (3,5))"
      ]
    },
    {
      "cell_type": "markdown",
      "metadata": {
        "id": "tAcRw53CtL-V"
      },
      "source": [
        "### By using choice we can also specify probability for each value\n",
        "- The sum of all probability numbers should be 1."
      ]
    },
    {
      "cell_type": "code",
      "execution_count": null,
      "metadata": {
        "id": "PYRCv-sQtL-V"
      },
      "outputs": [],
      "source": [
        "x = np.random.choice([3, 5, 7, 9], p=[1, 0, 0, 0], size=(5,6))"
      ]
    },
    {
      "cell_type": "code",
      "execution_count": null,
      "metadata": {
        "scrolled": true,
        "id": "R_PXghSutL-V",
        "outputId": "a1856e79-c4bd-459b-9ae0-5cae91c42499"
      },
      "outputs": [
        {
          "data": {
            "text/plain": [
              "array([[3, 3, 3, 3, 3, 3],\n",
              "       [3, 3, 3, 3, 3, 3],\n",
              "       [3, 3, 3, 3, 3, 3],\n",
              "       [3, 3, 3, 3, 3, 3],\n",
              "       [3, 3, 3, 3, 3, 3]])"
            ]
          },
          "execution_count": 95,
          "metadata": {},
          "output_type": "execute_result"
        }
      ],
      "source": [
        "x"
      ]
    },
    {
      "cell_type": "markdown",
      "metadata": {
        "id": "m0_1RI2EtL-W"
      },
      "source": [
        "# Random Number Generation 2: Random Data Distributions"
      ]
    },
    {
      "cell_type": "markdown",
      "metadata": {
        "id": "yiRa7Uv-tL-W"
      },
      "source": [
        "### Data Distributions: List of all possible values, and how often a value occurs\n",
        "- Important in statistics\n",
        "\n",
        "### Random Distribution : A random distribution is a set of random numbers that follow a certain probability density function.\n",
        "\n",
        "- Probability Density Function: A function that describes a continuous probability. i.e. probability of all values in an array."
      ]
    },
    {
      "cell_type": "code",
      "execution_count": null,
      "metadata": {
        "id": "M_OxUXEjtL-W"
      },
      "outputs": [],
      "source": [
        "import numpy as np\n",
        "import matplotlib.pyplot as plt \n",
        "import seaborn as sns\n",
        "#Plotting libraries for visualizing distributions"
      ]
    },
    {
      "cell_type": "code",
      "execution_count": null,
      "metadata": {
        "id": "AAVTqvfRtL-a"
      },
      "outputs": [],
      "source": [
        "# Choice: We can specify probability of each value\n",
        "x = np.random.choice([3, 4, 5, 6,7,8,9], p=[0.05, 0.1,0.2,0.3,0.2,0.1, 0.05], size=100)"
      ]
    },
    {
      "cell_type": "code",
      "execution_count": null,
      "metadata": {
        "id": "e-uRgog_tL-a",
        "outputId": "622929f8-dabf-46b5-f572-78f77003e665"
      },
      "outputs": [
        {
          "data": {
            "text/plain": [
              "array([5, 8, 6, 6, 6, 3, 8, 8, 8, 6, 4, 6, 7, 8, 6, 6, 7, 6, 4, 7, 7, 5,\n",
              "       5, 6, 5, 7, 6, 7, 7, 5, 9, 7, 6, 8, 5, 6, 5, 5, 7, 7, 5, 6, 6, 8,\n",
              "       5, 6, 6, 7, 7, 6, 3, 7, 7, 5, 7, 7, 9, 5, 9, 7, 5, 5, 7, 6, 8, 8,\n",
              "       5, 7, 4, 7, 9, 3, 6, 5, 6, 4, 3, 7, 9, 6, 8, 5, 3, 5, 7, 8, 8, 4,\n",
              "       6, 6, 7, 7, 6, 6, 6, 9, 7, 3, 5, 4])"
            ]
          },
          "execution_count": 3,
          "metadata": {},
          "output_type": "execute_result"
        }
      ],
      "source": [
        "x"
      ]
    },
    {
      "cell_type": "code",
      "execution_count": null,
      "metadata": {
        "scrolled": true,
        "id": "CHsaQ7GGtL-b",
        "outputId": "6c27009a-38f3-4810-9715-548a87c6fefb"
      },
      "outputs": [
        {
          "data": {
            "text/plain": [
              "(array([ 6.,  6., 19., 26., 25., 12.,  6.]),\n",
              " array([3.        , 3.85714286, 4.71428571, 5.57142857, 6.42857143,\n",
              "        7.28571429, 8.14285714, 9.        ]),\n",
              " <BarContainer object of 7 artists>)"
            ]
          },
          "execution_count": 6,
          "metadata": {},
          "output_type": "execute_result"
        },
        {
          "data": {
            "image/png": "[encoded data removed]",
            "text/plain": [
              "<Figure size 432x288 with 1 Axes>"
            ]
          },
          "metadata": {
            "needs_background": "light"
          },
          "output_type": "display_data"
        }
      ],
      "source": [
        "plt.hist(x,bins = 7)"
      ]
    },
    {
      "cell_type": "code",
      "execution_count": null,
      "metadata": {
        "scrolled": false,
        "id": "pR_eOpVUtL-b",
        "outputId": "e6d54c10-0460-421e-d857-ea4b47cae3fc"
      },
      "outputs": [
        {
          "data": {
            "text/plain": [
              "<seaborn.axisgrid.FacetGrid at 0x24c23bded88>"
            ]
          },
          "execution_count": 7,
          "metadata": {},
          "output_type": "execute_result"
        },
        {
          "data": {
            "image/png": "[encoded data removed]",
            "text/plain": [
              "<Figure size 360x360 with 1 Axes>"
            ]
          },
          "metadata": {
            "needs_background": "light"
          },
          "output_type": "display_data"
        }
      ],
      "source": [
        "sns.displot(x,bins = 7,kde = True)"
      ]
    },
    {
      "cell_type": "code",
      "execution_count": null,
      "metadata": {
        "id": "G4LpjCYPtL-b",
        "outputId": "542adfe4-0bbb-41ac-8466-ba8f7515fa07"
      },
      "outputs": [
        {
          "name": "stderr",
          "output_type": "stream",
          "text": [
            "C:\\Users\\acer\\Anaconda3\\lib\\site-packages\\seaborn\\distributions.py:2557: FutureWarning: `distplot` is a deprecated function and will be removed in a future version. Please adapt your code to use either `displot` (a figure-level function with similar flexibility) or `histplot` (an axes-level function for histograms).\n",
            "  warnings.warn(msg, FutureWarning)\n"
          ]
        },
        {
          "data": {
            "text/plain": [
              "<AxesSubplot:ylabel='Density'>"
            ]
          },
          "execution_count": 8,
          "metadata": {},
          "output_type": "execute_result"
        },
        {
          "data": {
            "image/png": "[encoded data removed]",
            "text/plain": [
              "<Figure size 432x288 with 1 Axes>"
            ]
          },
          "metadata": {
            "needs_background": "light"
          },
          "output_type": "display_data"
        }
      ],
      "source": [
        "sns.distplot(x)"
      ]
    },
    {
      "cell_type": "markdown",
      "metadata": {
        "id": "VCVYJ4K9tL-c"
      },
      "source": [
        "### Normal Distribution \n",
        "- About 68% of values drawn from a normal distribution are within one standard deviation σ away from the mean; about 95% of the values lie within two standard deviations; and about 99.7% are within three standard deviations\n",
        "- Most Important Distribution \n",
        "- E.g.: Heights of people, size of things produced by machines, errors in measurements, blood pressure, iq of people"
      ]
    },
    {
      "cell_type": "markdown",
      "metadata": {
        "id": "ddZYpKTHtL-c"
      },
      "source": [
        "![normal-distribution-curve-1.png](attachment:normal-distribution-curve-1.png)"
      ]
    },
    {
      "cell_type": "markdown",
      "metadata": {
        "id": "StMbaZHPtL-c"
      },
      "source": [
        "np.random.normal(loc = mean,scale = standard deviation, size)"
      ]
    },
    {
      "cell_type": "code",
      "execution_count": null,
      "metadata": {
        "id": "Aq0HaXZ7tL-c"
      },
      "outputs": [],
      "source": [
        "x = np.random.normal(loc = 10,scale = 5, size =(10000))\n",
        "y = np.random.normal(loc = 5,scale = 10, size =(10000))"
      ]
    },
    {
      "cell_type": "code",
      "execution_count": null,
      "metadata": {
        "id": "AXtyRAQ1tL-c",
        "outputId": "42b4028a-1488-4bf1-86a8-afcbf04fe5d9"
      },
      "outputs": [
        {
          "name": "stderr",
          "output_type": "stream",
          "text": [
            "C:\\Users\\acer\\Anaconda3\\lib\\site-packages\\seaborn\\distributions.py:2557: FutureWarning: `distplot` is a deprecated function and will be removed in a future version. Please adapt your code to use either `displot` (a figure-level function with similar flexibility) or `histplot` (an axes-level function for histograms).\n",
            "  warnings.warn(msg, FutureWarning)\n",
            "C:\\Users\\acer\\Anaconda3\\lib\\site-packages\\seaborn\\distributions.py:2557: FutureWarning: `distplot` is a deprecated function and will be removed in a future version. Please adapt your code to use either `displot` (a figure-level function with similar flexibility) or `histplot` (an axes-level function for histograms).\n",
            "  warnings.warn(msg, FutureWarning)\n"
          ]
        },
        {
          "data": {
            "image/png": "[encoded data removed]",
            "text/plain": [
              "<Figure size 432x288 with 1 Axes>"
            ]
          },
          "metadata": {
            "needs_background": "light"
          },
          "output_type": "display_data"
        }
      ],
      "source": [
        "sns.distplot(x)\n",
        "sns.distplot(y)\n",
        "plt.grid(True)"
      ]
    },
    {
      "cell_type": "code",
      "execution_count": null,
      "metadata": {
        "id": "e6zf8t5stL-d",
        "outputId": "11bd27e1-7a3a-4b13-e0e9-93c4f8785135"
      },
      "outputs": [
        {
          "data": {
            "text/plain": [
              "(10000,)"
            ]
          },
          "execution_count": 16,
          "metadata": {},
          "output_type": "execute_result"
        }
      ],
      "source": [
        "x.shape"
      ]
    },
    {
      "cell_type": "code",
      "execution_count": null,
      "metadata": {
        "id": "pIDdH5JdtL-d"
      },
      "outputs": [],
      "source": [
        "x = np.random.normal(loc = 10, scale = 5, size = (4,5))"
      ]
    },
    {
      "cell_type": "code",
      "execution_count": null,
      "metadata": {
        "id": "t9fYCrA3tL-d",
        "outputId": "a247c66d-d9cc-4614-cebe-7d8a28b48aaf"
      },
      "outputs": [
        {
          "data": {
            "text/plain": [
              "array([[ 5.61223148,  9.62678238,  4.48931674,  1.80087996,  9.2857733 ],\n",
              "       [ 2.98516049, 12.71447959, 12.0228806 ,  8.14844995,  7.81567117],\n",
              "       [13.53196514, 16.89649626,  9.61655758, 14.15349958, 10.64099581],\n",
              "       [ 7.98546222,  9.8026282 , 12.18452532,  8.466067  , 12.72341559]])"
            ]
          },
          "execution_count": 18,
          "metadata": {},
          "output_type": "execute_result"
        }
      ],
      "source": [
        "x"
      ]
    },
    {
      "cell_type": "markdown",
      "metadata": {
        "id": "tKfRW3IrtL-d"
      },
      "source": [
        "## Standard Normal Distribution\n",
        "- mean = 0\n",
        "- STD = 1"
      ]
    },
    {
      "cell_type": "code",
      "execution_count": null,
      "metadata": {
        "id": "SZNMF7adtL-d"
      },
      "outputs": [],
      "source": [
        "x = np.random.normal(size = 100)"
      ]
    },
    {
      "cell_type": "code",
      "execution_count": null,
      "metadata": {
        "scrolled": false,
        "id": "zNijQ3GrtL-d",
        "outputId": "caa701a4-b594-47e4-f7ec-b20cb6c568ca"
      },
      "outputs": [
        {
          "name": "stderr",
          "output_type": "stream",
          "text": [
            "C:\\Users\\acer\\Anaconda3\\lib\\site-packages\\seaborn\\distributions.py:2557: FutureWarning: `distplot` is a deprecated function and will be removed in a future version. Please adapt your code to use either `displot` (a figure-level function with similar flexibility) or `histplot` (an axes-level function for histograms).\n",
            "  warnings.warn(msg, FutureWarning)\n"
          ]
        },
        {
          "data": {
            "text/plain": [
              "<AxesSubplot:ylabel='Density'>"
            ]
          },
          "execution_count": 24,
          "metadata": {},
          "output_type": "execute_result"
        },
        {
          "data": {
            "image/png": "[encoded data removed]",
            "text/plain": [
              "<Figure size 432x288 with 1 Axes>"
            ]
          },
          "metadata": {
            "needs_background": "light"
          },
          "output_type": "display_data"
        }
      ],
      "source": [
        "sns.distplot(x)"
      ]
    },
    {
      "cell_type": "code",
      "execution_count": null,
      "metadata": {
        "id": "zNniNUWMtL-e"
      },
      "outputs": [],
      "source": [
        "#Randn\n",
        "x = np.random.randn(100)"
      ]
    },
    {
      "cell_type": "code",
      "execution_count": null,
      "metadata": {
        "id": "s9fwp74jtL-e",
        "outputId": "5e00a115-26df-46b0-9676-ef37dac46943"
      },
      "outputs": [
        {
          "name": "stderr",
          "output_type": "stream",
          "text": [
            "C:\\Users\\acer\\Anaconda3\\lib\\site-packages\\seaborn\\distributions.py:2557: FutureWarning: `distplot` is a deprecated function and will be removed in a future version. Please adapt your code to use either `displot` (a figure-level function with similar flexibility) or `histplot` (an axes-level function for histograms).\n",
            "  warnings.warn(msg, FutureWarning)\n"
          ]
        },
        {
          "data": {
            "text/plain": [
              "<AxesSubplot:ylabel='Density'>"
            ]
          },
          "execution_count": 26,
          "metadata": {},
          "output_type": "execute_result"
        },
        {
          "data": {
            "image/png": "[encoded data removed]",
            "text/plain": [
              "<Figure size 432x288 with 1 Axes>"
            ]
          },
          "metadata": {
            "needs_background": "light"
          },
          "output_type": "display_data"
        }
      ],
      "source": [
        "sns.distplot(x)"
      ]
    },
    {
      "cell_type": "code",
      "execution_count": null,
      "metadata": {
        "id": "8Okq7nFjtL-e"
      },
      "outputs": [],
      "source": [
        "y = np.random.randn(1000)"
      ]
    },
    {
      "cell_type": "code",
      "execution_count": null,
      "metadata": {
        "id": "Uzzvm2UXtL-e",
        "outputId": "bc1d0067-33f6-4a1a-ce55-e417e3db9cef"
      },
      "outputs": [
        {
          "name": "stderr",
          "output_type": "stream",
          "text": [
            "C:\\Users\\acer\\Anaconda3\\lib\\site-packages\\seaborn\\distributions.py:2557: FutureWarning: `distplot` is a deprecated function and will be removed in a future version. Please adapt your code to use either `displot` (a figure-level function with similar flexibility) or `histplot` (an axes-level function for histograms).\n",
            "  warnings.warn(msg, FutureWarning)\n"
          ]
        },
        {
          "data": {
            "text/plain": [
              "<AxesSubplot:ylabel='Density'>"
            ]
          },
          "execution_count": 31,
          "metadata": {},
          "output_type": "execute_result"
        },
        {
          "data": {
            "image/png": "[encoded data removed]",
            "text/plain": [
              "<Figure size 432x288 with 1 Axes>"
            ]
          },
          "metadata": {
            "needs_background": "light"
          },
          "output_type": "display_data"
        }
      ],
      "source": [
        "sns.distplot(y)"
      ]
    },
    {
      "cell_type": "code",
      "execution_count": null,
      "metadata": {
        "id": "sCByaP9ZtL-e"
      },
      "outputs": [],
      "source": [
        "#Doesn't follow any distribution\n",
        "z = np.random.rand(1000)"
      ]
    },
    {
      "cell_type": "code",
      "execution_count": null,
      "metadata": {
        "id": "Z0b7gMSotL-e",
        "outputId": "a4842cd5-9afd-4994-9d78-cd02abd218a9"
      },
      "outputs": [
        {
          "data": {
            "text/plain": [
              "<AxesSubplot:ylabel='Count'>"
            ]
          },
          "execution_count": 33,
          "metadata": {},
          "output_type": "execute_result"
        },
        {
          "data": {
            "image/png": "[encoded data removed]",
            "text/plain": [
              "<Figure size 432x288 with 1 Axes>"
            ]
          },
          "metadata": {
            "needs_background": "light"
          },
          "output_type": "display_data"
        }
      ],
      "source": [
        "sns.histplot(z)"
      ]
    },
    {
      "cell_type": "markdown",
      "metadata": {
        "id": "xflZ1YQUtL-f"
      },
      "source": [
        "## Uniform Distribution\n",
        "- Probability of every outcome is equally likely.\n",
        "\n",
        "- Rectangular shape curve\n",
        "\n",
        "- Eg.: Drawing a crad from a card deck, rolling a dice are examples of uniform distribution.\n",
        "\n",
        "![image.png](attachment:image.png)"
      ]
    },
    {
      "cell_type": "code",
      "execution_count": null,
      "metadata": {
        "id": "BiecPDZztL-f"
      },
      "outputs": [],
      "source": [
        "x = np.random.uniform(1,10,10000)"
      ]
    },
    {
      "cell_type": "code",
      "execution_count": null,
      "metadata": {
        "id": "vX6Xovt-tL-f",
        "outputId": "f395bbb8-1586-4d87-d9b4-b5f1ca40feb0"
      },
      "outputs": [
        {
          "data": {
            "text/plain": [
              "<AxesSubplot:ylabel='Count'>"
            ]
          },
          "execution_count": 36,
          "metadata": {},
          "output_type": "execute_result"
        },
        {
          "data": {
            "image/png": "[encoded data removed]",
            "text/plain": [
              "<Figure size 432x288 with 1 Axes>"
            ]
          },
          "metadata": {
            "needs_background": "light"
          },
          "output_type": "display_data"
        }
      ],
      "source": [
        "sns.histplot(x)"
      ]
    },
    {
      "cell_type": "markdown",
      "metadata": {
        "id": "z6hSr44FtL-f"
      },
      "source": [
        "##### np.random.uniform(lower bound, upper bound, size)"
      ]
    },
    {
      "cell_type": "code",
      "execution_count": null,
      "metadata": {
        "id": "hsTYYWlItL-f"
      },
      "outputs": [],
      "source": [
        "x = np.random.choice([1,2,3,4,5,6,7,8,9,10], p =[0.1,0.1,0.1,0.1,0.1,0.1,0.1,0.1,0.1,0.1], size = 10000)"
      ]
    },
    {
      "cell_type": "code",
      "execution_count": null,
      "metadata": {
        "id": "3zyOiziOtL-g",
        "outputId": "e86ce055-78e8-46cb-d6f8-8678afa4ae9d"
      },
      "outputs": [
        {
          "data": {
            "text/plain": [
              "<AxesSubplot:ylabel='Count'>"
            ]
          },
          "execution_count": 38,
          "metadata": {},
          "output_type": "execute_result"
        },
        {
          "data": {
            "image/png": "[encoded data removed]",
            "text/plain": [
              "<Figure size 432x288 with 1 Axes>"
            ]
          },
          "metadata": {
            "needs_background": "light"
          },
          "output_type": "display_data"
        }
      ],
      "source": [
        "sns.histplot(x)"
      ]
    },
    {
      "cell_type": "code",
      "execution_count": null,
      "metadata": {
        "id": "XISaV-xHtL-g",
        "outputId": "c251864c-7c70-41e1-eb80-0a36df9d651b"
      },
      "outputs": [
        {
          "data": {
            "text/plain": [
              "3"
            ]
          },
          "execution_count": 39,
          "metadata": {},
          "output_type": "execute_result"
        }
      ],
      "source": [
        "np.random.binomial( n = 10, p = 0.5)"
      ]
    },
    {
      "cell_type": "markdown",
      "metadata": {
        "id": "WoRNtR6KtL-g"
      },
      "source": [
        "# #"
      ]
    },
    {
      "cell_type": "markdown",
      "metadata": {
        "id": "rSiO5_7DtL-g"
      },
      "source": [
        "# Numpy Functions"
      ]
    },
    {
      "cell_type": "markdown",
      "metadata": {
        "id": "_tOYSbYctL-g"
      },
      "source": [
        "- Numpy contains a large number of various mathematical functions:\n",
        "    - Trignometric\n",
        "    - Arithmetic\n",
        "    - Exponential, complex number handling etc."
      ]
    },
    {
      "cell_type": "code",
      "execution_count": null,
      "metadata": {
        "id": "IkuUVnFotL-g"
      },
      "outputs": [],
      "source": [
        "import numpy as np"
      ]
    },
    {
      "cell_type": "markdown",
      "metadata": {
        "id": "DvwUcdqytL-h"
      },
      "source": [
        "## Arithmetics Functions:"
      ]
    },
    {
      "cell_type": "code",
      "execution_count": null,
      "metadata": {
        "id": "uaPG5cYStL-h",
        "outputId": "09a024c5-f8e5-4921-ecd3-1e3e42a3c956"
      },
      "outputs": [
        {
          "data": {
            "text/plain": [
              "[1, 2, 3, 44, 5, 4, 5, 6, 7, 8]"
            ]
          },
          "execution_count": 47,
          "metadata": {},
          "output_type": "execute_result"
        }
      ],
      "source": [
        "# Addition:\n",
        "a = [1,2,3,44,5]\n",
        "b = [4,5,6,7,8]\n",
        "c= a+b\n",
        "c"
      ]
    },
    {
      "cell_type": "code",
      "execution_count": null,
      "metadata": {
        "id": "X0uXo2oftL-h",
        "outputId": "b8203d66-0a47-49c2-c12d-9742afa4ffa1"
      },
      "outputs": [
        {
          "data": {
            "text/plain": [
              "[5, 7, 9, 51, 13]"
            ]
          },
          "execution_count": 48,
          "metadata": {},
          "output_type": "execute_result"
        }
      ],
      "source": [
        "c = []\n",
        "for i,j in zip(a,b):\n",
        "    c.append(i+j)\n",
        "    \n",
        "c"
      ]
    },
    {
      "cell_type": "code",
      "execution_count": null,
      "metadata": {
        "id": "qShA8LWotL-h",
        "outputId": "3ad0b7f1-6a18-431c-e2c2-84eaca644215"
      },
      "outputs": [
        {
          "data": {
            "text/plain": [
              "array([ 5,  7,  9, 51, 13])"
            ]
          },
          "execution_count": 11,
          "metadata": {},
          "output_type": "execute_result"
        }
      ],
      "source": [
        "ara = np.array(a)\n",
        "arb = np.array(b)\n",
        "arc = ara +arb\n",
        "arc"
      ]
    },
    {
      "cell_type": "code",
      "execution_count": null,
      "metadata": {
        "id": "oI7uxXOYtL-h",
        "outputId": "5c6546b4-5b1a-4ec0-a4dd-1c709ee2e0fb"
      },
      "outputs": [
        {
          "ename": "TypeError",
          "evalue": "can't multiply sequence by non-int of type 'list'",
          "output_type": "error",
          "traceback": [
            "\u001b[1;31m---------------------------------------------------------------------------\u001b[0m",
            "\u001b[1;31mTypeError\u001b[0m                                 Traceback (most recent call last)",
            "\u001b[1;32m<ipython-input-12-8ce765dcfa30>\u001b[0m in \u001b[0;36m<module>\u001b[1;34m\u001b[0m\n\u001b[1;32m----> 1\u001b[1;33m \u001b[0ma\u001b[0m\u001b[1;33m*\u001b[0m\u001b[0mb\u001b[0m\u001b[1;33m\u001b[0m\u001b[1;33m\u001b[0m\u001b[0m\n\u001b[0m",
            "\u001b[1;31mTypeError\u001b[0m: can't multiply sequence by non-int of type 'list'"
          ]
        }
      ],
      "source": [
        "a*b"
      ]
    },
    {
      "cell_type": "code",
      "execution_count": null,
      "metadata": {
        "id": "SqFHAFZmtL-h",
        "outputId": "9d21977e-d747-46f7-9614-7ded7bcf0f51"
      },
      "outputs": [
        {
          "data": {
            "text/plain": [
              "array([  4,  10,  18, 308,  40])"
            ]
          },
          "execution_count": 13,
          "metadata": {},
          "output_type": "execute_result"
        }
      ],
      "source": [
        "ara*arb"
      ]
    },
    {
      "cell_type": "code",
      "execution_count": null,
      "metadata": {
        "id": "5PgNLBVetL-i",
        "outputId": "cfa4fbea-d3e3-47e3-d1d5-f045f45bfa02"
      },
      "outputs": [
        {
          "ename": "TypeError",
          "evalue": "unsupported operand type(s) for /: 'list' and 'list'",
          "output_type": "error",
          "traceback": [
            "\u001b[1;31m---------------------------------------------------------------------------\u001b[0m",
            "\u001b[1;31mTypeError\u001b[0m                                 Traceback (most recent call last)",
            "\u001b[1;32m<ipython-input-14-aae42d317509>\u001b[0m in \u001b[0;36m<module>\u001b[1;34m\u001b[0m\n\u001b[1;32m----> 1\u001b[1;33m \u001b[0ma\u001b[0m\u001b[1;33m/\u001b[0m\u001b[0mb\u001b[0m\u001b[1;33m\u001b[0m\u001b[1;33m\u001b[0m\u001b[0m\n\u001b[0m",
            "\u001b[1;31mTypeError\u001b[0m: unsupported operand type(s) for /: 'list' and 'list'"
          ]
        }
      ],
      "source": [
        "a/b"
      ]
    },
    {
      "cell_type": "code",
      "execution_count": null,
      "metadata": {
        "id": "92IKQKfrtL-i",
        "outputId": "4a336d91-8a5e-431a-bdd7-65fb0a2cec90"
      },
      "outputs": [
        {
          "data": {
            "text/plain": [
              "array([0.25      , 0.4       , 0.5       , 6.28571429, 0.625     ])"
            ]
          },
          "execution_count": 15,
          "metadata": {},
          "output_type": "execute_result"
        }
      ],
      "source": [
        "ara/arb"
      ]
    },
    {
      "cell_type": "code",
      "execution_count": null,
      "metadata": {
        "id": "VtyKnJthtL-i",
        "outputId": "06de1fae-ebfe-4586-c94a-7ea293a34b5a"
      },
      "outputs": [
        {
          "ename": "TypeError",
          "evalue": "unsupported operand type(s) for ** or pow(): 'list' and 'list'",
          "output_type": "error",
          "traceback": [
            "\u001b[1;31m---------------------------------------------------------------------------\u001b[0m",
            "\u001b[1;31mTypeError\u001b[0m                                 Traceback (most recent call last)",
            "\u001b[1;32m<ipython-input-49-27166ff49cce>\u001b[0m in \u001b[0;36m<module>\u001b[1;34m\u001b[0m\n\u001b[1;32m----> 1\u001b[1;33m \u001b[0ma\u001b[0m\u001b[1;33m**\u001b[0m\u001b[0mb\u001b[0m\u001b[1;33m\u001b[0m\u001b[1;33m\u001b[0m\u001b[0m\n\u001b[0m",
            "\u001b[1;31mTypeError\u001b[0m: unsupported operand type(s) for ** or pow(): 'list' and 'list'"
          ]
        }
      ],
      "source": [
        "a**b"
      ]
    },
    {
      "cell_type": "code",
      "execution_count": null,
      "metadata": {
        "id": "MMXhVXirtL-i",
        "outputId": "9e330df1-1ed6-4840-d5b8-a1ad48fe9d0c"
      },
      "outputs": [
        {
          "data": {
            "text/plain": [
              "array([         1,         32,        729, 1450229760,     390625],\n",
              "      dtype=int32)"
            ]
          },
          "execution_count": 51,
          "metadata": {},
          "output_type": "execute_result"
        }
      ],
      "source": [
        "#Power\n",
        "ara**arb"
      ]
    },
    {
      "cell_type": "code",
      "execution_count": null,
      "metadata": {
        "id": "XFf0Nl-dtL-i",
        "outputId": "bce1787e-621c-48d5-dc04-b68a8afc11d9"
      },
      "outputs": [
        {
          "data": {
            "text/plain": [
              "array([ 1,  2,  3, 44,  5])"
            ]
          },
          "execution_count": 52,
          "metadata": {},
          "output_type": "execute_result"
        }
      ],
      "source": [
        "ara "
      ]
    },
    {
      "cell_type": "code",
      "execution_count": null,
      "metadata": {
        "id": "DNYsKTvhtL-i",
        "outputId": "1acd6bae-3210-4330-9ca7-c295e7e6bc16"
      },
      "outputs": [
        {
          "data": {
            "text/plain": [
              "array([4, 5, 6, 7, 8])"
            ]
          },
          "execution_count": 53,
          "metadata": {},
          "output_type": "execute_result"
        }
      ],
      "source": [
        "arb"
      ]
    },
    {
      "cell_type": "markdown",
      "metadata": {
        "id": "6zdD0jrqtL-j"
      },
      "source": [
        "#### Operations between arrays of different shapes will result in error"
      ]
    },
    {
      "cell_type": "code",
      "execution_count": null,
      "metadata": {
        "id": "x--3wljPtL-j"
      },
      "outputs": [],
      "source": [
        "arrd = np.array([1,23,4])"
      ]
    },
    {
      "cell_type": "code",
      "execution_count": null,
      "metadata": {
        "id": "C4cTt6urtL-j",
        "outputId": "94031a58-930a-410a-a07c-d57942777bb7"
      },
      "outputs": [
        {
          "ename": "ValueError",
          "evalue": "operands could not be broadcast together with shapes (5,) (3,) ",
          "output_type": "error",
          "traceback": [
            "\u001b[1;31m---------------------------------------------------------------------------\u001b[0m",
            "\u001b[1;31mValueError\u001b[0m                                Traceback (most recent call last)",
            "\u001b[1;32m<ipython-input-26-d9ba213f8b8b>\u001b[0m in \u001b[0;36m<module>\u001b[1;34m\u001b[0m\n\u001b[1;32m----> 1\u001b[1;33m \u001b[0mara\u001b[0m\u001b[1;33m*\u001b[0m\u001b[0marrd\u001b[0m\u001b[1;33m\u001b[0m\u001b[1;33m\u001b[0m\u001b[0m\n\u001b[0m",
            "\u001b[1;31mValueError\u001b[0m: operands could not be broadcast together with shapes (5,) (3,) "
          ]
        }
      ],
      "source": [
        "ara*arrd"
      ]
    },
    {
      "cell_type": "code",
      "execution_count": null,
      "metadata": {
        "id": "RPQ408Z0tL-j",
        "outputId": "f11f117e-520f-425a-9f7e-128b7b290ac1"
      },
      "outputs": [
        {
          "ename": "TypeError",
          "evalue": "unsupported operand type(s) for ** or pow(): 'list' and 'int'",
          "output_type": "error",
          "traceback": [
            "\u001b[1;31m---------------------------------------------------------------------------\u001b[0m",
            "\u001b[1;31mTypeError\u001b[0m                                 Traceback (most recent call last)",
            "\u001b[1;32m<ipython-input-16-9d14bf4ad06f>\u001b[0m in \u001b[0;36m<module>\u001b[1;34m\u001b[0m\n\u001b[1;32m----> 1\u001b[1;33m \u001b[0ma\u001b[0m\u001b[1;33m**\u001b[0m\u001b[1;36m2\u001b[0m\u001b[1;33m\u001b[0m\u001b[1;33m\u001b[0m\u001b[0m\n\u001b[0m",
            "\u001b[1;31mTypeError\u001b[0m: unsupported operand type(s) for ** or pow(): 'list' and 'int'"
          ]
        }
      ],
      "source": [
        "a**2"
      ]
    },
    {
      "cell_type": "code",
      "execution_count": null,
      "metadata": {
        "id": "qzp-DoubtL-j",
        "outputId": "a32bf727-3b68-4666-efa6-8edf0091a91d"
      },
      "outputs": [
        {
          "data": {
            "text/plain": [
              "array([   1,    4,    9, 1936,   25], dtype=int32)"
            ]
          },
          "execution_count": 18,
          "metadata": {},
          "output_type": "execute_result"
        }
      ],
      "source": [
        "ara**2"
      ]
    },
    {
      "cell_type": "code",
      "execution_count": null,
      "metadata": {
        "id": "6rLfJZbStL-j",
        "outputId": "a2356c23-fd05-4f9b-a668-9b2e1699b76f"
      },
      "outputs": [
        {
          "data": {
            "text/plain": [
              "[1, 2, 3, 44, 5, 1, 2, 3, 44, 5]"
            ]
          },
          "execution_count": 19,
          "metadata": {},
          "output_type": "execute_result"
        }
      ],
      "source": [
        "a*2"
      ]
    },
    {
      "cell_type": "code",
      "execution_count": null,
      "metadata": {
        "id": "I_q31EXYtL-k",
        "outputId": "915362e1-fb44-40ef-f01b-4b43e316dda6"
      },
      "outputs": [
        {
          "data": {
            "text/plain": [
              "array([ 2,  4,  6, 88, 10])"
            ]
          },
          "execution_count": 20,
          "metadata": {},
          "output_type": "execute_result"
        }
      ],
      "source": [
        "ara*2"
      ]
    },
    {
      "cell_type": "code",
      "execution_count": null,
      "metadata": {
        "id": "Mh335uz9tL-k",
        "outputId": "55c3f23f-d225-4bb8-f251-92de407dd1e7"
      },
      "outputs": [
        {
          "data": {
            "text/plain": [
              "array([ 0,  1,  1, 22,  2], dtype=int32)"
            ]
          },
          "execution_count": 39,
          "metadata": {},
          "output_type": "execute_result"
        }
      ],
      "source": [
        "#Quotient\n",
        "ara//2"
      ]
    },
    {
      "cell_type": "code",
      "execution_count": null,
      "metadata": {
        "id": "7sgJBnzutL-k",
        "outputId": "50a5dbe9-58eb-4948-f56a-6ed3aa165da0"
      },
      "outputs": [
        {
          "ename": "TypeError",
          "evalue": "unsupported operand type(s) for //: 'list' and 'int'",
          "output_type": "error",
          "traceback": [
            "\u001b[1;31m---------------------------------------------------------------------------\u001b[0m",
            "\u001b[1;31mTypeError\u001b[0m                                 Traceback (most recent call last)",
            "\u001b[1;32m<ipython-input-54-69bac5b788dd>\u001b[0m in \u001b[0;36m<module>\u001b[1;34m\u001b[0m\n\u001b[1;32m----> 1\u001b[1;33m \u001b[0ma\u001b[0m\u001b[1;33m//\u001b[0m\u001b[1;36m2\u001b[0m\u001b[1;33m\u001b[0m\u001b[1;33m\u001b[0m\u001b[0m\n\u001b[0m",
            "\u001b[1;31mTypeError\u001b[0m: unsupported operand type(s) for //: 'list' and 'int'"
          ]
        }
      ],
      "source": [
        "a//2"
      ]
    },
    {
      "cell_type": "code",
      "execution_count": null,
      "metadata": {
        "id": "3qQefIjQtL-k",
        "outputId": "eae72739-fc2f-4b43-b5dc-ef04480e6d98"
      },
      "outputs": [
        {
          "data": {
            "text/plain": [
              "array([1, 0, 1, 0, 1], dtype=int32)"
            ]
          },
          "execution_count": 40,
          "metadata": {},
          "output_type": "execute_result"
        }
      ],
      "source": [
        "#Remainder\n",
        "ara%2 "
      ]
    },
    {
      "cell_type": "code",
      "execution_count": null,
      "metadata": {
        "id": "6iC5cmcStL-k",
        "outputId": "0de7a329-579c-4182-b20e-a370f09c47a5"
      },
      "outputs": [
        {
          "data": {
            "text/plain": [
              "array([  1,   5,  10, 234,  45,   3])"
            ]
          },
          "execution_count": 60,
          "metadata": {},
          "output_type": "execute_result"
        }
      ],
      "source": [
        "#absolute values\n",
        "ar = np.array([-1,-5,-10,234,45,3])\n",
        "np.abs(ar)"
      ]
    },
    {
      "cell_type": "code",
      "execution_count": null,
      "metadata": {
        "id": "HqhMAOq3tL-l",
        "outputId": "1946d0fa-9af0-4a53-e045-45624a384863"
      },
      "outputs": [
        {
          "data": {
            "text/plain": [
              "array([1.        , 1.41421356, 1.73205081, 6.63324958, 2.23606798])"
            ]
          },
          "execution_count": 43,
          "metadata": {},
          "output_type": "execute_result"
        }
      ],
      "source": [
        "np.sqrt(ara)"
      ]
    },
    {
      "cell_type": "code",
      "execution_count": null,
      "metadata": {
        "id": "tvbFN4lntL-l",
        "outputId": "bc403a5d-a62e-41b6-ffdc-2ce7490077f5"
      },
      "outputs": [
        {
          "data": {
            "text/plain": [
              "array([1.        , 1.41421356, 1.73205081, 6.63324958, 2.23606798])"
            ]
          },
          "execution_count": 44,
          "metadata": {},
          "output_type": "execute_result"
        }
      ],
      "source": [
        "np.sqrt(a)"
      ]
    },
    {
      "cell_type": "code",
      "execution_count": null,
      "metadata": {
        "id": "w1muK07atL-l",
        "outputId": "0de94dc3-d14b-4999-d507-a541eda2a293"
      },
      "outputs": [
        {
          "ename": "TypeError",
          "evalue": "unsupported operand type(s) for /: 'list' and 'int'",
          "output_type": "error",
          "traceback": [
            "\u001b[1;31m---------------------------------------------------------------------------\u001b[0m",
            "\u001b[1;31mTypeError\u001b[0m                                 Traceback (most recent call last)",
            "\u001b[1;32m<ipython-input-21-deacdc4ccabc>\u001b[0m in \u001b[0;36m<module>\u001b[1;34m\u001b[0m\n\u001b[1;32m----> 1\u001b[1;33m \u001b[0ma\u001b[0m\u001b[1;33m/\u001b[0m\u001b[1;36m0\u001b[0m\u001b[1;33m\u001b[0m\u001b[1;33m\u001b[0m\u001b[0m\n\u001b[0m",
            "\u001b[1;31mTypeError\u001b[0m: unsupported operand type(s) for /: 'list' and 'int'"
          ]
        }
      ],
      "source": [
        "a/0"
      ]
    },
    {
      "cell_type": "code",
      "execution_count": null,
      "metadata": {
        "id": "CtIdQCqstL-l",
        "outputId": "c40977ca-61b6-4de8-c2af-0e53d886781a"
      },
      "outputs": [
        {
          "name": "stderr",
          "output_type": "stream",
          "text": [
            "C:\\Users\\acer\\Anaconda3\\lib\\site-packages\\ipykernel_launcher.py:1: RuntimeWarning: divide by zero encountered in true_divide\n",
            "  \"\"\"Entry point for launching an IPython kernel.\n"
          ]
        },
        {
          "data": {
            "text/plain": [
              "array([inf, inf, inf, inf, inf])"
            ]
          },
          "execution_count": 22,
          "metadata": {},
          "output_type": "execute_result"
        }
      ],
      "source": [
        "ara/0"
      ]
    },
    {
      "cell_type": "code",
      "execution_count": null,
      "metadata": {
        "id": "YFuOYL4xtL-l",
        "outputId": "ce9db5a1-a794-4b4c-be8d-61fefa1b41ae"
      },
      "outputs": [
        {
          "data": {
            "text/plain": [
              "inf"
            ]
          },
          "execution_count": 27,
          "metadata": {},
          "output_type": "execute_result"
        }
      ],
      "source": [
        "np.inf"
      ]
    },
    {
      "cell_type": "code",
      "execution_count": null,
      "metadata": {
        "id": "r50CMFNVtL-l",
        "outputId": "55d96bfe-5097-4bad-a00f-52da4a00fd2f"
      },
      "outputs": [
        {
          "data": {
            "text/plain": [
              "nan"
            ]
          },
          "execution_count": 28,
          "metadata": {},
          "output_type": "execute_result"
        }
      ],
      "source": [
        "np.nan"
      ]
    },
    {
      "cell_type": "markdown",
      "metadata": {
        "id": "m2DJwGYTtL-m"
      },
      "source": [
        "### Dot Product "
      ]
    },
    {
      "cell_type": "code",
      "execution_count": null,
      "metadata": {
        "id": "OX4x2USGtL-m",
        "outputId": "d6a75a31-8c73-496e-e029-0a9466488bfb"
      },
      "outputs": [
        {
          "data": {
            "text/plain": [
              "array([ 1,  2,  3, 44,  5])"
            ]
          },
          "execution_count": 29,
          "metadata": {},
          "output_type": "execute_result"
        }
      ],
      "source": [
        "ara"
      ]
    },
    {
      "cell_type": "code",
      "execution_count": null,
      "metadata": {
        "id": "q-sAIiY1tL-m",
        "outputId": "97ccc087-f46b-4fbd-ed64-d4a405374d94"
      },
      "outputs": [
        {
          "data": {
            "text/plain": [
              "array([4, 5, 6, 7, 8])"
            ]
          },
          "execution_count": 30,
          "metadata": {},
          "output_type": "execute_result"
        }
      ],
      "source": [
        "arb"
      ]
    },
    {
      "cell_type": "code",
      "execution_count": null,
      "metadata": {
        "id": "SPlRAtT6tL-m",
        "outputId": "8fdf0e6d-8347-4f65-b1ae-92c89a5fe5e2"
      },
      "outputs": [
        {
          "data": {
            "text/plain": [
              "380"
            ]
          },
          "execution_count": 31,
          "metadata": {},
          "output_type": "execute_result"
        }
      ],
      "source": [
        "ara.dot(arb)"
      ]
    },
    {
      "cell_type": "code",
      "execution_count": null,
      "metadata": {
        "id": "-Tv2cGD0tL-m",
        "outputId": "8c37a992-e512-44c6-fe13-e66936162da9"
      },
      "outputs": [
        {
          "data": {
            "text/plain": [
              "array([[1, 2, 3, 4],\n",
              "       [5, 6, 7, 8]])"
            ]
          },
          "execution_count": 35,
          "metadata": {},
          "output_type": "execute_result"
        }
      ],
      "source": [
        "#Transpose\n",
        "are = np.array([[1,2,3,4],[5,6,7,8]])\n",
        "are"
      ]
    },
    {
      "cell_type": "code",
      "execution_count": null,
      "metadata": {
        "id": "UdRBhbEetL-m",
        "outputId": "44ce0fc1-f18f-4332-901e-1050d22deb04"
      },
      "outputs": [
        {
          "data": {
            "text/plain": [
              "array([[1, 5],\n",
              "       [2, 6],\n",
              "       [3, 7],\n",
              "       [4, 8]])"
            ]
          },
          "execution_count": 36,
          "metadata": {},
          "output_type": "execute_result"
        }
      ],
      "source": [
        "are.T"
      ]
    },
    {
      "cell_type": "markdown",
      "metadata": {
        "id": "DCoxbnLOtL-n"
      },
      "source": [
        "### min,max,mean,std values\n"
      ]
    },
    {
      "cell_type": "code",
      "execution_count": null,
      "metadata": {
        "id": "QSAl91TgtL-n"
      },
      "outputs": [],
      "source": [
        "ard = np.array([1,2,4,6,7,8,9,-12,-45,-110,556,342])"
      ]
    },
    {
      "cell_type": "code",
      "execution_count": null,
      "metadata": {
        "id": "UfxYhnWNtL-n",
        "outputId": "ef22c0d6-e342-4c8e-b85e-fcefb6168ddc"
      },
      "outputs": [
        {
          "data": {
            "text/plain": [
              "-110"
            ]
          },
          "execution_count": 62,
          "metadata": {},
          "output_type": "execute_result"
        }
      ],
      "source": [
        "ard.min()"
      ]
    },
    {
      "cell_type": "code",
      "execution_count": null,
      "metadata": {
        "id": "wMK3GEintL-n",
        "outputId": "b75fd97b-d3b8-4eaf-8d99-d87468aadc86"
      },
      "outputs": [
        {
          "data": {
            "text/plain": [
              "556"
            ]
          },
          "execution_count": 63,
          "metadata": {},
          "output_type": "execute_result"
        }
      ],
      "source": [
        "ard.max()"
      ]
    },
    {
      "cell_type": "code",
      "execution_count": null,
      "metadata": {
        "id": "DFvg0jg2tL-n",
        "outputId": "e592b304-7c1e-46fb-802d-3cd48bbe6d9e"
      },
      "outputs": [
        {
          "data": {
            "text/plain": [
              "9"
            ]
          },
          "execution_count": 64,
          "metadata": {},
          "output_type": "execute_result"
        }
      ],
      "source": [
        "ard.argmin()"
      ]
    },
    {
      "cell_type": "code",
      "execution_count": null,
      "metadata": {
        "id": "uTkx5QuMtL-o",
        "outputId": "c082b94d-2346-4f64-f528-c4e1231b64e3"
      },
      "outputs": [
        {
          "data": {
            "text/plain": [
              "10"
            ]
          },
          "execution_count": 65,
          "metadata": {},
          "output_type": "execute_result"
        }
      ],
      "source": [
        "ard.argmax()"
      ]
    },
    {
      "cell_type": "code",
      "execution_count": null,
      "metadata": {
        "id": "Gph6R-uGtL-o"
      },
      "outputs": [],
      "source": [
        "ard.sort()"
      ]
    },
    {
      "cell_type": "code",
      "execution_count": null,
      "metadata": {
        "id": "ZPyvgpnqtL-o",
        "outputId": "6a9d7b1e-bea4-4ac5-8c12-4d7d76ec4fb3"
      },
      "outputs": [
        {
          "data": {
            "text/plain": [
              "array([-110,  -45,  -12,    1,    2,    4,    6,    7,    8,    9,  342,\n",
              "        556])"
            ]
          },
          "execution_count": 69,
          "metadata": {},
          "output_type": "execute_result"
        }
      ],
      "source": [
        "ard"
      ]
    },
    {
      "cell_type": "code",
      "execution_count": null,
      "metadata": {
        "id": "1Ne0ip9YtL-o",
        "outputId": "69e80383-480a-4aa5-c1bc-d0bc9b2b4ee6"
      },
      "outputs": [
        {
          "data": {
            "text/plain": [
              "64.0"
            ]
          },
          "execution_count": 70,
          "metadata": {},
          "output_type": "execute_result"
        }
      ],
      "source": [
        "ard.mean()"
      ]
    },
    {
      "cell_type": "code",
      "execution_count": null,
      "metadata": {
        "id": "ahL0KeJgtL-o",
        "outputId": "f2cab40b-1b2d-4f4b-e4fe-a415c15da290"
      },
      "outputs": [
        {
          "data": {
            "text/plain": [
              "180.61653671060503"
            ]
          },
          "execution_count": 71,
          "metadata": {},
          "output_type": "execute_result"
        }
      ],
      "source": [
        "ard.std()"
      ]
    },
    {
      "cell_type": "markdown",
      "metadata": {
        "id": "QGfr1ovMtL-p"
      },
      "source": [
        "### Rounding Function"
      ]
    },
    {
      "cell_type": "code",
      "execution_count": null,
      "metadata": {
        "id": "EhVkZ2vQtL-p"
      },
      "outputs": [],
      "source": [
        "ar = np.array([0.4,0.89,0.000035343,1.565677,3.5,88.97567463423,-1.54656778])"
      ]
    },
    {
      "cell_type": "code",
      "execution_count": null,
      "metadata": {
        "id": "d4C8DQYftL-p",
        "outputId": "164e047e-ea36-4195-ba55-a94aa50b436b"
      },
      "outputs": [
        {
          "data": {
            "text/plain": [
              "array([ 4.00000000e-01,  8.90000000e-01,  3.53430000e-05,  1.56567700e+00,\n",
              "        3.50000000e+00,  8.89756746e+01, -1.54656778e+00])"
            ]
          },
          "execution_count": 73,
          "metadata": {},
          "output_type": "execute_result"
        }
      ],
      "source": [
        "ar"
      ]
    },
    {
      "cell_type": "code",
      "execution_count": null,
      "metadata": {
        "id": "qD_7-RXvtL-p",
        "outputId": "74ac624e-d7a6-4c4f-98d6-99014b55c75a"
      },
      "outputs": [
        {
          "data": {
            "text/plain": [
              "array([ 0.4   ,  0.89  ,  0.    ,  1.5657,  3.5   , 88.9757, -1.5466])"
            ]
          },
          "execution_count": 77,
          "metadata": {},
          "output_type": "execute_result"
        }
      ],
      "source": [
        "ar.round(4)"
      ]
    },
    {
      "cell_type": "code",
      "execution_count": null,
      "metadata": {
        "id": "i9j5Y_sstL-p",
        "outputId": "c4c6aacc-3a66-4f2e-b149-90767af61720"
      },
      "outputs": [
        {
          "data": {
            "text/plain": [
              "array([ 0.4   ,  0.89  ,  0.    ,  1.5657,  3.5   , 88.9757, -1.5466])"
            ]
          },
          "execution_count": 78,
          "metadata": {},
          "output_type": "execute_result"
        }
      ],
      "source": [
        "np.round(ar,4)"
      ]
    },
    {
      "cell_type": "code",
      "execution_count": null,
      "metadata": {
        "id": "qPSzzo1dtL-p",
        "outputId": "0a71a00a-6e82-40ab-a86c-fa65060eb69a"
      },
      "outputs": [
        {
          "data": {
            "text/plain": [
              "array([ 0.,  0.,  0.,  1.,  3., 88., -2.])"
            ]
          },
          "execution_count": 80,
          "metadata": {},
          "output_type": "execute_result"
        }
      ],
      "source": [
        "# Floor: Rounding to nearest lower integer\n",
        "np.floor(ar)"
      ]
    },
    {
      "cell_type": "code",
      "execution_count": null,
      "metadata": {
        "id": "SW19WqpXtL-p",
        "outputId": "3e43c578-ae50-41fc-c75b-9d9c0e9aa77a"
      },
      "outputs": [
        {
          "data": {
            "text/plain": [
              "array([ 1.,  1.,  1.,  2.,  4., 89., -1.])"
            ]
          },
          "execution_count": 81,
          "metadata": {},
          "output_type": "execute_result"
        }
      ],
      "source": [
        "# Ceil: ceil() function rounds off decimal to nearest upper integer.\n",
        "np.ceil(ar)"
      ]
    },
    {
      "cell_type": "markdown",
      "metadata": {
        "id": "m7ox4fW_tL-q"
      },
      "source": [
        "## Trignometric Functions"
      ]
    },
    {
      "cell_type": "code",
      "execution_count": null,
      "metadata": {
        "id": "gUZvuWWQtL-q",
        "outputId": "216d26f7-c04b-46e2-e7e0-3a7af88cb7c2"
      },
      "outputs": [
        {
          "data": {
            "text/plain": [
              "array([ 1,  2,  3, 44,  5])"
            ]
          },
          "execution_count": 82,
          "metadata": {},
          "output_type": "execute_result"
        }
      ],
      "source": [
        "ara"
      ]
    },
    {
      "cell_type": "code",
      "execution_count": null,
      "metadata": {
        "id": "HVXAP3w5tL-q",
        "outputId": "ffc9de06-4062-49b9-f52c-8e19792a2c5d"
      },
      "outputs": [
        {
          "data": {
            "text/plain": [
              "array([ 0.84147098,  0.90929743,  0.14112001,  0.01770193, -0.95892427])"
            ]
          },
          "execution_count": 83,
          "metadata": {},
          "output_type": "execute_result"
        }
      ],
      "source": [
        "np.sin(ara)"
      ]
    },
    {
      "cell_type": "code",
      "execution_count": null,
      "metadata": {
        "id": "cQDetRCFtL-q",
        "outputId": "ef6c6a9c-2d93-4327-dfaa-540686d35ee7"
      },
      "outputs": [
        {
          "data": {
            "text/plain": [
              "1.2246467991473532e-16"
            ]
          },
          "execution_count": 86,
          "metadata": {},
          "output_type": "execute_result"
        }
      ],
      "source": [
        "np.sin(np.pi)"
      ]
    },
    {
      "cell_type": "code",
      "execution_count": null,
      "metadata": {
        "id": "eCix7ahHtL-q",
        "outputId": "a212a2d4-9d02-4a7d-c41c-b96b640332e2"
      },
      "outputs": [
        {
          "data": {
            "text/plain": [
              "0.0"
            ]
          },
          "execution_count": 89,
          "metadata": {},
          "output_type": "execute_result"
        }
      ],
      "source": [
        "np.sin(0)"
      ]
    },
    {
      "cell_type": "code",
      "execution_count": null,
      "metadata": {
        "id": "vGGdLpj4tL-r",
        "outputId": "d31b130a-1907-4182-ddf5-a30c1862c6f2"
      },
      "outputs": [
        {
          "data": {
            "text/plain": [
              "1.0"
            ]
          },
          "execution_count": 90,
          "metadata": {},
          "output_type": "execute_result"
        }
      ],
      "source": [
        "np.sin(np.pi/2)"
      ]
    },
    {
      "cell_type": "code",
      "execution_count": null,
      "metadata": {
        "id": "OiwH2LsFtL-r",
        "outputId": "b4bdd584-4801-40bb-8f3b-6ec2621c2906"
      },
      "outputs": [
        {
          "data": {
            "text/plain": [
              "1.0"
            ]
          },
          "execution_count": 91,
          "metadata": {},
          "output_type": "execute_result"
        }
      ],
      "source": [
        "np.cos(0)"
      ]
    },
    {
      "cell_type": "code",
      "execution_count": null,
      "metadata": {
        "id": "scyMp_LQtL-r",
        "outputId": "61eade69-f7e9-4ddb-be32-bf86892b2be6"
      },
      "outputs": [
        {
          "data": {
            "text/plain": [
              "6.123233995736766e-17"
            ]
          },
          "execution_count": 92,
          "metadata": {},
          "output_type": "execute_result"
        }
      ],
      "source": [
        "np.cos(np.pi/2)"
      ]
    },
    {
      "cell_type": "code",
      "execution_count": null,
      "metadata": {
        "id": "xo-qfQWItL-r",
        "outputId": "8f8e7d75-ace1-4004-e057-27f8985979d7"
      },
      "outputs": [
        {
          "data": {
            "text/plain": [
              "180.0"
            ]
          },
          "execution_count": 97,
          "metadata": {},
          "output_type": "execute_result"
        }
      ],
      "source": [
        "np.degrees(np.pi)"
      ]
    },
    {
      "cell_type": "code",
      "execution_count": null,
      "metadata": {
        "id": "aqCN8O4ltL-r",
        "outputId": "3aaa63cf-60f2-4d03-a6bb-23c20cd745e6"
      },
      "outputs": [
        {
          "data": {
            "text/plain": [
              "1.5707963267948966"
            ]
          },
          "execution_count": 101,
          "metadata": {},
          "output_type": "execute_result"
        }
      ],
      "source": [
        "np.arcsin(1)"
      ]
    },
    {
      "cell_type": "code",
      "execution_count": null,
      "metadata": {
        "id": "B1cJ9QJ_tL-r",
        "outputId": "75049364-0119-42da-be15-6a3fb91dcc6f"
      },
      "outputs": [
        {
          "data": {
            "text/plain": [
              "90.0"
            ]
          },
          "execution_count": 102,
          "metadata": {},
          "output_type": "execute_result"
        }
      ],
      "source": [
        "np.rad2deg(np.arcsin(1))"
      ]
    },
    {
      "cell_type": "code",
      "execution_count": null,
      "metadata": {
        "id": "EWMnSFjCtL-s",
        "outputId": "6c427ca6-e06a-4388-a94a-05b2a9920a4f"
      },
      "outputs": [
        {
          "data": {
            "text/plain": [
              "array([ 90., -90.,   0.])"
            ]
          },
          "execution_count": 120,
          "metadata": {},
          "output_type": "execute_result"
        }
      ],
      "source": [
        "np.rad2deg(np.arcsin([1,-1,0]))"
      ]
    },
    {
      "cell_type": "code",
      "execution_count": null,
      "metadata": {
        "id": "ipjs7oFBtL-s",
        "outputId": "a7db9a91-afb3-446d-8fa7-91c0154b276f"
      },
      "outputs": [
        {
          "data": {
            "text/plain": [
              "5.0"
            ]
          },
          "execution_count": 122,
          "metadata": {},
          "output_type": "execute_result"
        }
      ],
      "source": [
        "#hypot function that takes the base and perpendicular values and produces hypotenues\n",
        "np.hypot(3,4)"
      ]
    },
    {
      "cell_type": "markdown",
      "metadata": {
        "id": "EWJzE7DatL-s"
      },
      "source": [
        "## Logarthmic and Exponential functions"
      ]
    },
    {
      "cell_type": "code",
      "execution_count": null,
      "metadata": {
        "id": "pSGUhUHMtL-s",
        "outputId": "6c9ea45c-b38d-431a-e6e9-600fe952f2de"
      },
      "outputs": [
        {
          "data": {
            "text/plain": [
              "2.718281828459045"
            ]
          },
          "execution_count": 105,
          "metadata": {},
          "output_type": "execute_result"
        }
      ],
      "source": [
        "np.exp(1)"
      ]
    },
    {
      "cell_type": "code",
      "execution_count": null,
      "metadata": {
        "id": "0tJYcnectL-s",
        "outputId": "d2835a6f-93e4-4eb0-d92d-0ff9ac7bbdbb"
      },
      "outputs": [
        {
          "data": {
            "text/plain": [
              "7.38905609893065"
            ]
          },
          "execution_count": 106,
          "metadata": {},
          "output_type": "execute_result"
        }
      ],
      "source": [
        "np.exp(2)"
      ]
    },
    {
      "cell_type": "code",
      "execution_count": null,
      "metadata": {
        "id": "kmFnAuKctL-s",
        "outputId": "03b1ed1a-9fc0-4cad-e825-9d83e164ea5e"
      },
      "outputs": [
        {
          "data": {
            "text/plain": [
              "array([  2.71828183,   7.3890561 ,  54.59815003, 403.42879349])"
            ]
          },
          "execution_count": 107,
          "metadata": {},
          "output_type": "execute_result"
        }
      ],
      "source": [
        "np.exp([1,2,4,6])"
      ]
    },
    {
      "cell_type": "code",
      "execution_count": null,
      "metadata": {
        "id": "5mW2F_DWtL-t",
        "outputId": "53229493-836f-42d2-e300-f7c397953c49"
      },
      "outputs": [
        {
          "data": {
            "text/plain": [
              "0.0"
            ]
          },
          "execution_count": 111,
          "metadata": {},
          "output_type": "execute_result"
        }
      ],
      "source": [
        "#Natural log\n",
        "np.log(1)"
      ]
    },
    {
      "cell_type": "code",
      "execution_count": null,
      "metadata": {
        "id": "NLp5DPn2tL-t",
        "outputId": "817e8d8f-abcc-4ba3-ce95-b9748ca4b7ad"
      },
      "outputs": [
        {
          "data": {
            "text/plain": [
              "1.0"
            ]
          },
          "execution_count": 109,
          "metadata": {},
          "output_type": "execute_result"
        }
      ],
      "source": [
        "np.log(np.exp(1))"
      ]
    },
    {
      "cell_type": "code",
      "execution_count": null,
      "metadata": {
        "id": "sWbcKqOItL-t",
        "outputId": "8c9ff813-0859-4040-ee1c-e6071316657c"
      },
      "outputs": [
        {
          "data": {
            "text/plain": [
              "1.0"
            ]
          },
          "execution_count": 115,
          "metadata": {},
          "output_type": "execute_result"
        }
      ],
      "source": [
        "#Log base 10\n",
        "np.log10(10)"
      ]
    },
    {
      "cell_type": "code",
      "execution_count": null,
      "metadata": {
        "id": "LMe__0l8tL-t",
        "outputId": "bb7741ef-dacc-4f00-b177-e9200c0b5f76"
      },
      "outputs": [
        {
          "data": {
            "text/plain": [
              "2.0"
            ]
          },
          "execution_count": 116,
          "metadata": {},
          "output_type": "execute_result"
        }
      ],
      "source": [
        "np.log10(100)"
      ]
    },
    {
      "cell_type": "code",
      "execution_count": null,
      "metadata": {
        "id": "8cxC8fBNtL-t",
        "outputId": "2e61edf3-7ea8-4ba2-867a-a0c2002e8c46"
      },
      "outputs": [
        {
          "data": {
            "text/plain": [
              "1.0"
            ]
          },
          "execution_count": 119,
          "metadata": {},
          "output_type": "execute_result"
        }
      ],
      "source": [
        "#Log base 2\n",
        "np.log2(2)"
      ]
    },
    {
      "cell_type": "markdown",
      "metadata": {
        "id": "yElHC1thtL-u"
      },
      "source": [
        "## Matrix Multiplication : use @\n",
        "- a*b : a is of m X n and b is of n X j, then product is of m X j"
      ]
    },
    {
      "cell_type": "code",
      "execution_count": null,
      "metadata": {
        "id": "qkYF14u5tL-u"
      },
      "outputs": [],
      "source": [
        "ar = np.array([[2,3,4,5],[4,5,6,7]])"
      ]
    },
    {
      "cell_type": "code",
      "execution_count": null,
      "metadata": {
        "id": "ZViIvEBItL-u",
        "outputId": "3d0fcda5-2b2c-4b0e-8fa0-18d49e5b2ebb"
      },
      "outputs": [
        {
          "data": {
            "text/plain": [
              "array([[2, 3, 4, 5],\n",
              "       [4, 5, 6, 7]])"
            ]
          },
          "execution_count": 125,
          "metadata": {},
          "output_type": "execute_result"
        }
      ],
      "source": [
        "ar"
      ]
    },
    {
      "cell_type": "code",
      "execution_count": null,
      "metadata": {
        "id": "6vTaliHttL-u",
        "outputId": "70586d47-ba38-4258-ec77-f8228aa68920"
      },
      "outputs": [
        {
          "data": {
            "text/plain": [
              "(2, 4)"
            ]
          },
          "execution_count": 124,
          "metadata": {},
          "output_type": "execute_result"
        }
      ],
      "source": [
        "ar.shape"
      ]
    },
    {
      "cell_type": "code",
      "execution_count": null,
      "metadata": {
        "id": "YqIX6TcstL-u",
        "outputId": "9fd8d00f-87db-416a-a172-1a48461d21e8"
      },
      "outputs": [
        {
          "data": {
            "text/plain": [
              "array([[1, 2],\n",
              "       [4, 5],\n",
              "       [6, 7],\n",
              "       [8, 9]])"
            ]
          },
          "execution_count": 126,
          "metadata": {},
          "output_type": "execute_result"
        }
      ],
      "source": [
        "art = np.array([[1,2],[4,5],[6,7],[8,9]])\n",
        "art"
      ]
    },
    {
      "cell_type": "code",
      "execution_count": null,
      "metadata": {
        "id": "JqpALPpxtL-u",
        "outputId": "5f0d0a37-dd4c-44a4-9e9e-11e8fa100e28"
      },
      "outputs": [
        {
          "data": {
            "text/plain": [
              "(4, 2)"
            ]
          },
          "execution_count": 127,
          "metadata": {},
          "output_type": "execute_result"
        }
      ],
      "source": [
        "art.shape"
      ]
    },
    {
      "cell_type": "code",
      "execution_count": null,
      "metadata": {
        "id": "nls_y2C9tL-v",
        "outputId": "398744ce-6c8f-41c6-97b8-14b4b908baf2"
      },
      "outputs": [
        {
          "data": {
            "text/plain": [
              "array([[ 78,  92],\n",
              "       [116, 138]])"
            ]
          },
          "execution_count": 129,
          "metadata": {},
          "output_type": "execute_result"
        }
      ],
      "source": [
        "ar@art "
      ]
    }
  ],
  "metadata": {
    "kernelspec": {
      "display_name": "Python 3",
      "language": "python",
      "name": "python3"
    },
    "language_info": {
      "codemirror_mode": {
        "name": "ipython",
        "version": 3
      },
      "file_extension": ".py",
      "mimetype": "text/x-python",
      "name": "python",
      "nbconvert_exporter": "python",
      "pygments_lexer": "ipython3",
      "version": "3.7.4"
    },
    "colab": {
      "provenance": [],
      "include_colab_link": true
    }
  },
  "nbformat": 4,
  "nbformat_minor": 0
}