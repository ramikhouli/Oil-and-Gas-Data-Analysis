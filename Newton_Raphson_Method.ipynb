{
  "nbformat": 4,
  "nbformat_minor": 0,
  "metadata": {
    "colab": {
      "provenance": [],
      "toc_visible": true,
      "authorship_tag": "ABX9TyOGiT6kte+qkrfBGvR5fYRc",
      "include_colab_link": true
    },
    "kernelspec": {
      "name": "python3",
      "display_name": "Python 3"
    },
    "language_info": {
      "name": "python"
    }
  },
  "cells": [
    {
      "cell_type": "markdown",
      "metadata": {
        "id": "view-in-github",
        "colab_type": "text"
      },
      "source": [
        "<a href=\"https://colab.research.google.com/github/ramikhouli/Oil-and-Gas-Data-Analysis/blob/main/Newton_Raphson_Method.ipynb\" target=\"_parent\"><img src=\"https://colab.research.google.com/assets/colab-badge.svg\" alt=\"Open In Colab\"/></a>"
      ]
    },
    {
      "cell_type": "markdown",
      "source": [
        "Rami Khouli | Data Analysis | Deep Learning | Machine Learning\n",
        "\n",
        "rami.khouli@gmail.com\n",
        "\n",
        "#Finding the square root of a number using python"
      ],
      "metadata": {
        "id": "4vPt5N8PBJ-r"
      }
    },
    {
      "cell_type": "code",
      "execution_count": null,
      "metadata": {
        "id": "Bb9iq3VU-ta1"
      },
      "outputs": [],
      "source": [
        "# ALGORITHM (Newton Raphson's Numerical Method)\n",
        "# x2 = N\n",
        "# f(x) = x2 - N = 0\n",
        "# f'(x) = 2x\n",
        "# x(n|1) = x(n) - f(x) / f'(x)"
      ]
    },
    {
      "cell_type": "code",
      "source": [
        "# Ask the user for an input n (the number who's square root is desired)."
      ],
      "metadata": {
        "id": "LlijUXpDBoT5"
      },
      "execution_count": null,
      "outputs": []
    },
    {
      "cell_type": "code",
      "source": [
        "n = input(\"\\n Enter the number to be square rooted--\")\n",
        "\n",
        "n = float(n)\n",
        "\n",
        "#Let's assume the initial root (guess) be 0\n",
        "\n",
        "x = 0.5 \n",
        "\n",
        "while  (abs(x**2 - n)>0.00001) :\n",
        "  x = x - ((x**2 - n)/(2*x))\n",
        "\n",
        "\n",
        "print(f\"\\n \\n Result: The square root of {n} is {x}\")"
      ],
      "metadata": {
        "colab": {
          "base_uri": "https://localhost:8080/"
        },
        "id": "iDZH4tyUBwZD",
        "outputId": "8108c503-2dac-4f13-f679-d24a0b8344ee"
      },
      "execution_count": null,
      "outputs": [
        {
          "output_type": "stream",
          "name": "stdout",
          "text": [
            "\n",
            " Enter the number to be square rooted--625\n",
            "\n",
            " \n",
            " Result: The square root of 625.0 is 25.000000001056083\n"
          ]
        }
      ]
    }
  ]
}